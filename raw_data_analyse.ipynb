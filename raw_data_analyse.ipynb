{
 "cells": [
  {
   "cell_type": "code",
   "execution_count": 120,
   "outputs": [],
   "source": [
    "import os\n",
    "\n",
    "\n",
    "class Para:\n",
    "    data_folder_path = 'data/cs_space_20d_rate_20d_2017'\n",
    "    month_num = len(os.listdir(data_folder_path))\n",
    "para = Para()"
   ],
   "metadata": {
    "collapsed": false,
    "pycharm": {
     "name": "#%%\n"
    }
   }
  },
  {
   "cell_type": "code",
   "execution_count": 121,
   "metadata": {
    "collapsed": true
   },
   "outputs": [
    {
     "data": {
      "text/plain": "              board_type            sector_code  yield_rate  month  \\\norder_book_id                                                        \n000837.XSHE    MainBoard            Industrials    0.095794      0   \n002446.XSHE    MainBoard  InformationTechnology   -0.032057      0   \n600507.XSHG    MainBoard              Materials    0.154067      0   \n603198.XSHG    MainBoard        ConsumerStaples   -0.031596      0   \n600368.XSHG    MainBoard            Industrials    0.020938      0   \n...                  ...                    ...         ...    ...   \n600207.XSHG    MainBoard  ConsumerDiscretionary    0.131868      0   \n600059.XSHG    MainBoard        ConsumerStaples    0.012597      0   \n300424.XSHE          GEM            Industrials   -0.023627      0   \n600110.XSHG    MainBoard              Materials   -0.013787      0   \n300091.XSHE          GEM            Industrials    0.044283      0   \n\n                     date  ep_ratio_ttm  pb_ratio_ttm  sp_ratio_ttm  \\\norder_book_id                                                         \n000837.XSHE    2017-01-03     -1.646699     -0.586022      0.222573   \n002446.XSHE    2017-01-03      0.208511     -0.248153     -0.574023   \n600507.XSHG    2017-01-03      1.169557     -0.259813      1.264156   \n603198.XSHG    2017-01-03      0.801800     -0.202628     -0.437298   \n600368.XSHG    2017-01-03     -0.512214     -0.673689     -0.208162   \n...                   ...           ...           ...           ...   \n600207.XSHG    2017-01-03     -0.823393      0.263177     -0.272370   \n600059.XSHG    2017-01-03      0.062796     -0.581115     -0.401522   \n300424.XSHE    2017-01-03     -0.288227      0.431205     -0.712003   \n600110.XSHG    2017-01-03      1.622491      0.160193     -0.490951   \n300091.XSHE    2017-01-03     -0.338336      0.435881     -0.544812   \n\n               operating_revenue_growth_ratio_ttm  \\\norder_book_id                                       \n000837.XSHE                             -0.414890   \n002446.XSHE                              0.549030   \n600507.XSHG                             -0.652742   \n603198.XSHG                             -0.353054   \n600368.XSHG                             -1.697859   \n...                                           ...   \n600207.XSHG                             -0.263247   \n600059.XSHG                             -0.077933   \n300424.XSHE                             -0.540319   \n600110.XSHG                              0.088132   \n300091.XSHE                             -0.433338   \n\n               net_profit_growth_ratio_ttm  ...     RSI10        SY    BIAS20  \\\norder_book_id                               ...                                 \n000837.XSHE                       0.285638  ...  0.227550  1.216634  0.375105   \n002446.XSHE                       0.306574  ... -2.849840 -1.971787 -2.302898   \n600507.XSHG                       0.202070  ... -2.317647 -1.971787 -0.817039   \n603198.XSHG                       0.050342  ... -1.324902 -1.971787 -0.581344   \n600368.XSHG                       0.347671  ...  0.675940  2.013740  0.222497   \n...                                    ...  ...       ...       ...       ...   \n600207.XSHG                      -0.302831  ... -0.842327 -1.174682 -0.641932   \n600059.XSHG                      -0.119079  ...  1.549394  2.810845  0.825623   \n300424.XSHE                      -0.102791  ...  0.976167 -0.377576  0.551744   \n600110.XSHG                      -0.758294  ...  0.040345 -0.377576  0.453518   \n300091.XSHE                       0.145149  ... -1.346999 -1.174682 -0.503040   \n\n                  VOL30     VOL60    VOL120    VOLT20    VOLT60        AR  \\\norder_book_id                                                               \n000837.XSHE   -0.385433  0.234097 -0.211010 -0.820388 -0.579267  0.087728   \n002446.XSHE    0.291061  0.161475  0.387837  0.500061  0.013100 -0.774194   \n600507.XSHG    0.247433 -0.179318 -0.309680 -0.764710 -0.865978  0.878687   \n603198.XSHG   -0.291645 -0.153889  0.081381 -0.030363 -0.149208 -0.680957   \n600368.XSHG   -0.564536 -0.499077 -0.393281 -1.077815 -1.026238 -0.564705   \n...                 ...       ...       ...       ...       ...       ...   \n600207.XSHG   -0.802514 -0.726198 -0.771010 -0.497319 -0.562252 -1.430323   \n600059.XSHG   -0.672733 -0.751937 -0.763711 -0.753896 -0.924522  0.343947   \n300424.XSHE   -0.239820 -0.278387 -0.370369  1.793408  1.592634 -0.764760   \n600110.XSHG    0.043215  0.286751  0.651854 -0.394511  0.005910  0.503268   \n300091.XSHE   -0.339894 -0.441066 -0.355537 -0.942442 -0.998969 -1.932569   \n\n                     BR  \norder_book_id            \n000837.XSHE   -0.265282  \n002446.XSHE   -0.764898  \n600507.XSHG    0.159580  \n603198.XSHG   -0.680544  \n600368.XSHG    0.143835  \n...                 ...  \n600207.XSHG   -1.202696  \n600059.XSHG    1.064155  \n300424.XSHE   -0.104049  \n600110.XSHG    1.449622  \n300091.XSHE   -1.893220  \n\n[2508 rows x 27 columns]",
      "text/html": "<div>\n<style scoped>\n    .dataframe tbody tr th:only-of-type {\n        vertical-align: middle;\n    }\n\n    .dataframe tbody tr th {\n        vertical-align: top;\n    }\n\n    .dataframe thead th {\n        text-align: right;\n    }\n</style>\n<table border=\"1\" class=\"dataframe\">\n  <thead>\n    <tr style=\"text-align: right;\">\n      <th></th>\n      <th>board_type</th>\n      <th>sector_code</th>\n      <th>yield_rate</th>\n      <th>month</th>\n      <th>date</th>\n      <th>ep_ratio_ttm</th>\n      <th>pb_ratio_ttm</th>\n      <th>sp_ratio_ttm</th>\n      <th>operating_revenue_growth_ratio_ttm</th>\n      <th>net_profit_growth_ratio_ttm</th>\n      <th>...</th>\n      <th>RSI10</th>\n      <th>SY</th>\n      <th>BIAS20</th>\n      <th>VOL30</th>\n      <th>VOL60</th>\n      <th>VOL120</th>\n      <th>VOLT20</th>\n      <th>VOLT60</th>\n      <th>AR</th>\n      <th>BR</th>\n    </tr>\n    <tr>\n      <th>order_book_id</th>\n      <th></th>\n      <th></th>\n      <th></th>\n      <th></th>\n      <th></th>\n      <th></th>\n      <th></th>\n      <th></th>\n      <th></th>\n      <th></th>\n      <th></th>\n      <th></th>\n      <th></th>\n      <th></th>\n      <th></th>\n      <th></th>\n      <th></th>\n      <th></th>\n      <th></th>\n      <th></th>\n      <th></th>\n    </tr>\n  </thead>\n  <tbody>\n    <tr>\n      <th>000837.XSHE</th>\n      <td>MainBoard</td>\n      <td>Industrials</td>\n      <td>0.095794</td>\n      <td>0</td>\n      <td>2017-01-03</td>\n      <td>-1.646699</td>\n      <td>-0.586022</td>\n      <td>0.222573</td>\n      <td>-0.414890</td>\n      <td>0.285638</td>\n      <td>...</td>\n      <td>0.227550</td>\n      <td>1.216634</td>\n      <td>0.375105</td>\n      <td>-0.385433</td>\n      <td>0.234097</td>\n      <td>-0.211010</td>\n      <td>-0.820388</td>\n      <td>-0.579267</td>\n      <td>0.087728</td>\n      <td>-0.265282</td>\n    </tr>\n    <tr>\n      <th>002446.XSHE</th>\n      <td>MainBoard</td>\n      <td>InformationTechnology</td>\n      <td>-0.032057</td>\n      <td>0</td>\n      <td>2017-01-03</td>\n      <td>0.208511</td>\n      <td>-0.248153</td>\n      <td>-0.574023</td>\n      <td>0.549030</td>\n      <td>0.306574</td>\n      <td>...</td>\n      <td>-2.849840</td>\n      <td>-1.971787</td>\n      <td>-2.302898</td>\n      <td>0.291061</td>\n      <td>0.161475</td>\n      <td>0.387837</td>\n      <td>0.500061</td>\n      <td>0.013100</td>\n      <td>-0.774194</td>\n      <td>-0.764898</td>\n    </tr>\n    <tr>\n      <th>600507.XSHG</th>\n      <td>MainBoard</td>\n      <td>Materials</td>\n      <td>0.154067</td>\n      <td>0</td>\n      <td>2017-01-03</td>\n      <td>1.169557</td>\n      <td>-0.259813</td>\n      <td>1.264156</td>\n      <td>-0.652742</td>\n      <td>0.202070</td>\n      <td>...</td>\n      <td>-2.317647</td>\n      <td>-1.971787</td>\n      <td>-0.817039</td>\n      <td>0.247433</td>\n      <td>-0.179318</td>\n      <td>-0.309680</td>\n      <td>-0.764710</td>\n      <td>-0.865978</td>\n      <td>0.878687</td>\n      <td>0.159580</td>\n    </tr>\n    <tr>\n      <th>603198.XSHG</th>\n      <td>MainBoard</td>\n      <td>ConsumerStaples</td>\n      <td>-0.031596</td>\n      <td>0</td>\n      <td>2017-01-03</td>\n      <td>0.801800</td>\n      <td>-0.202628</td>\n      <td>-0.437298</td>\n      <td>-0.353054</td>\n      <td>0.050342</td>\n      <td>...</td>\n      <td>-1.324902</td>\n      <td>-1.971787</td>\n      <td>-0.581344</td>\n      <td>-0.291645</td>\n      <td>-0.153889</td>\n      <td>0.081381</td>\n      <td>-0.030363</td>\n      <td>-0.149208</td>\n      <td>-0.680957</td>\n      <td>-0.680544</td>\n    </tr>\n    <tr>\n      <th>600368.XSHG</th>\n      <td>MainBoard</td>\n      <td>Industrials</td>\n      <td>0.020938</td>\n      <td>0</td>\n      <td>2017-01-03</td>\n      <td>-0.512214</td>\n      <td>-0.673689</td>\n      <td>-0.208162</td>\n      <td>-1.697859</td>\n      <td>0.347671</td>\n      <td>...</td>\n      <td>0.675940</td>\n      <td>2.013740</td>\n      <td>0.222497</td>\n      <td>-0.564536</td>\n      <td>-0.499077</td>\n      <td>-0.393281</td>\n      <td>-1.077815</td>\n      <td>-1.026238</td>\n      <td>-0.564705</td>\n      <td>0.143835</td>\n    </tr>\n    <tr>\n      <th>...</th>\n      <td>...</td>\n      <td>...</td>\n      <td>...</td>\n      <td>...</td>\n      <td>...</td>\n      <td>...</td>\n      <td>...</td>\n      <td>...</td>\n      <td>...</td>\n      <td>...</td>\n      <td>...</td>\n      <td>...</td>\n      <td>...</td>\n      <td>...</td>\n      <td>...</td>\n      <td>...</td>\n      <td>...</td>\n      <td>...</td>\n      <td>...</td>\n      <td>...</td>\n      <td>...</td>\n    </tr>\n    <tr>\n      <th>600207.XSHG</th>\n      <td>MainBoard</td>\n      <td>ConsumerDiscretionary</td>\n      <td>0.131868</td>\n      <td>0</td>\n      <td>2017-01-03</td>\n      <td>-0.823393</td>\n      <td>0.263177</td>\n      <td>-0.272370</td>\n      <td>-0.263247</td>\n      <td>-0.302831</td>\n      <td>...</td>\n      <td>-0.842327</td>\n      <td>-1.174682</td>\n      <td>-0.641932</td>\n      <td>-0.802514</td>\n      <td>-0.726198</td>\n      <td>-0.771010</td>\n      <td>-0.497319</td>\n      <td>-0.562252</td>\n      <td>-1.430323</td>\n      <td>-1.202696</td>\n    </tr>\n    <tr>\n      <th>600059.XSHG</th>\n      <td>MainBoard</td>\n      <td>ConsumerStaples</td>\n      <td>0.012597</td>\n      <td>0</td>\n      <td>2017-01-03</td>\n      <td>0.062796</td>\n      <td>-0.581115</td>\n      <td>-0.401522</td>\n      <td>-0.077933</td>\n      <td>-0.119079</td>\n      <td>...</td>\n      <td>1.549394</td>\n      <td>2.810845</td>\n      <td>0.825623</td>\n      <td>-0.672733</td>\n      <td>-0.751937</td>\n      <td>-0.763711</td>\n      <td>-0.753896</td>\n      <td>-0.924522</td>\n      <td>0.343947</td>\n      <td>1.064155</td>\n    </tr>\n    <tr>\n      <th>300424.XSHE</th>\n      <td>GEM</td>\n      <td>Industrials</td>\n      <td>-0.023627</td>\n      <td>0</td>\n      <td>2017-01-03</td>\n      <td>-0.288227</td>\n      <td>0.431205</td>\n      <td>-0.712003</td>\n      <td>-0.540319</td>\n      <td>-0.102791</td>\n      <td>...</td>\n      <td>0.976167</td>\n      <td>-0.377576</td>\n      <td>0.551744</td>\n      <td>-0.239820</td>\n      <td>-0.278387</td>\n      <td>-0.370369</td>\n      <td>1.793408</td>\n      <td>1.592634</td>\n      <td>-0.764760</td>\n      <td>-0.104049</td>\n    </tr>\n    <tr>\n      <th>600110.XSHG</th>\n      <td>MainBoard</td>\n      <td>Materials</td>\n      <td>-0.013787</td>\n      <td>0</td>\n      <td>2017-01-03</td>\n      <td>1.622491</td>\n      <td>0.160193</td>\n      <td>-0.490951</td>\n      <td>0.088132</td>\n      <td>-0.758294</td>\n      <td>...</td>\n      <td>0.040345</td>\n      <td>-0.377576</td>\n      <td>0.453518</td>\n      <td>0.043215</td>\n      <td>0.286751</td>\n      <td>0.651854</td>\n      <td>-0.394511</td>\n      <td>0.005910</td>\n      <td>0.503268</td>\n      <td>1.449622</td>\n    </tr>\n    <tr>\n      <th>300091.XSHE</th>\n      <td>GEM</td>\n      <td>Industrials</td>\n      <td>0.044283</td>\n      <td>0</td>\n      <td>2017-01-03</td>\n      <td>-0.338336</td>\n      <td>0.435881</td>\n      <td>-0.544812</td>\n      <td>-0.433338</td>\n      <td>0.145149</td>\n      <td>...</td>\n      <td>-1.346999</td>\n      <td>-1.174682</td>\n      <td>-0.503040</td>\n      <td>-0.339894</td>\n      <td>-0.441066</td>\n      <td>-0.355537</td>\n      <td>-0.942442</td>\n      <td>-0.998969</td>\n      <td>-1.932569</td>\n      <td>-1.893220</td>\n    </tr>\n  </tbody>\n</table>\n<p>2508 rows × 27 columns</p>\n</div>"
     },
     "execution_count": 121,
     "metadata": {},
     "output_type": "execute_result"
    }
   ],
   "source": [
    "import pandas as pd\n",
    "\n",
    "df = pd.read_csv(para.data_folder_path+'/0.csv', index_col='order_book_id')\n",
    "df"
   ]
  },
  {
   "cell_type": "code",
   "execution_count": 122,
   "outputs": [
    {
     "data": {
      "text/plain": "               yield_rate  ep_ratio_ttm  pb_ratio_ttm  sp_ratio_ttm  \\\norder_book_id                                                         \n000837.XSHE      0.095794     -1.646699     -0.586022      0.222573   \n002446.XSHE     -0.032057      0.208511     -0.248153     -0.574023   \n600507.XSHG      0.154067      1.169557     -0.259813      1.264156   \n603198.XSHG     -0.031596      0.801800     -0.202628     -0.437298   \n600368.XSHG      0.020938     -0.512214     -0.673689     -0.208162   \n...                   ...           ...           ...           ...   \n600207.XSHG      0.131868     -0.823393      0.263177     -0.272370   \n600059.XSHG      0.012597      0.062796     -0.581115     -0.401522   \n300424.XSHE     -0.023627     -0.288227      0.431205     -0.712003   \n600110.XSHG     -0.013787      1.622491      0.160193     -0.490951   \n300091.XSHE      0.044283     -0.338336      0.435881     -0.544812   \n\n               operating_revenue_growth_ratio_ttm  \\\norder_book_id                                       \n000837.XSHE                             -0.414890   \n002446.XSHE                              0.549030   \n600507.XSHG                             -0.652742   \n603198.XSHG                             -0.353054   \n600368.XSHG                             -1.697859   \n...                                           ...   \n600207.XSHG                             -0.263247   \n600059.XSHG                             -0.077933   \n300424.XSHE                             -0.540319   \n600110.XSHG                              0.088132   \n300091.XSHE                             -0.433338   \n\n               net_profit_growth_ratio_ttm  gross_profit_margin_ttm  \\\norder_book_id                                                         \n000837.XSHE                       0.285638                -1.012500   \n002446.XSHE                       0.306574                 0.358191   \n600507.XSHG                       0.202070                -0.673431   \n603198.XSHG                       0.050342                 1.758278   \n600368.XSHG                       0.347671                 2.269115   \n...                                    ...                      ...   \n600207.XSHG                      -0.302831                -0.942238   \n600059.XSHG                      -0.119079                 0.231777   \n300424.XSHE                      -0.102791                 0.819499   \n600110.XSHG                      -0.758294                -0.531865   \n300091.XSHE                       0.145149                 0.061260   \n\n               total_asset_turnover_ttm  cash_ratio_lf  current_ratio_lf  ...  \\\norder_book_id                                                             ...   \n000837.XSHE                   -0.523534      -0.385840         -0.427213  ...   \n002446.XSHE                   -0.479323      -0.199148          0.343463  ...   \n600507.XSHG                    0.955217      -0.587185         -0.820837  ...   \n603198.XSHG                    0.008410      -0.313985          0.172998  ...   \n600368.XSHG                   -1.211728      -0.685285         -0.451725  ...   \n...                                 ...            ...               ...  ...   \n600207.XSHG                    0.618172       0.156943          0.298716  ...   \n600059.XSHG                   -0.548350      -0.237430          2.612185  ...   \n300424.XSHE                   -0.423662      -0.261499          0.490643  ...   \n600110.XSHG                   -0.628889      -0.587787         -0.712666  ...   \n300091.XSHE                   -0.457472      -0.672998         -0.659557  ...   \n\n                  RSI10        SY    BIAS20     VOL30     VOL60    VOL120  \\\norder_book_id                                                               \n000837.XSHE    0.227550  1.216634  0.375105 -0.385433  0.234097 -0.211010   \n002446.XSHE   -2.849840 -1.971787 -2.302898  0.291061  0.161475  0.387837   \n600507.XSHG   -2.317647 -1.971787 -0.817039  0.247433 -0.179318 -0.309680   \n603198.XSHG   -1.324902 -1.971787 -0.581344 -0.291645 -0.153889  0.081381   \n600368.XSHG    0.675940  2.013740  0.222497 -0.564536 -0.499077 -0.393281   \n...                 ...       ...       ...       ...       ...       ...   \n600207.XSHG   -0.842327 -1.174682 -0.641932 -0.802514 -0.726198 -0.771010   \n600059.XSHG    1.549394  2.810845  0.825623 -0.672733 -0.751937 -0.763711   \n300424.XSHE    0.976167 -0.377576  0.551744 -0.239820 -0.278387 -0.370369   \n600110.XSHG    0.040345 -0.377576  0.453518  0.043215  0.286751  0.651854   \n300091.XSHE   -1.346999 -1.174682 -0.503040 -0.339894 -0.441066 -0.355537   \n\n                 VOLT20    VOLT60        AR        BR  \norder_book_id                                          \n000837.XSHE   -0.820388 -0.579267  0.087728 -0.265282  \n002446.XSHE    0.500061  0.013100 -0.774194 -0.764898  \n600507.XSHG   -0.764710 -0.865978  0.878687  0.159580  \n603198.XSHG   -0.030363 -0.149208 -0.680957 -0.680544  \n600368.XSHG   -1.077815 -1.026238 -0.564705  0.143835  \n...                 ...       ...       ...       ...  \n600207.XSHG   -0.497319 -0.562252 -1.430323 -1.202696  \n600059.XSHG   -0.753896 -0.924522  0.343947  1.064155  \n300424.XSHE    1.793408  1.592634 -0.764760 -0.104049  \n600110.XSHG   -0.394511  0.005910  0.503268  1.449622  \n300091.XSHE   -0.942442 -0.998969 -1.932569 -1.893220  \n\n[2508 rows x 23 columns]",
      "text/html": "<div>\n<style scoped>\n    .dataframe tbody tr th:only-of-type {\n        vertical-align: middle;\n    }\n\n    .dataframe tbody tr th {\n        vertical-align: top;\n    }\n\n    .dataframe thead th {\n        text-align: right;\n    }\n</style>\n<table border=\"1\" class=\"dataframe\">\n  <thead>\n    <tr style=\"text-align: right;\">\n      <th></th>\n      <th>yield_rate</th>\n      <th>ep_ratio_ttm</th>\n      <th>pb_ratio_ttm</th>\n      <th>sp_ratio_ttm</th>\n      <th>operating_revenue_growth_ratio_ttm</th>\n      <th>net_profit_growth_ratio_ttm</th>\n      <th>gross_profit_margin_ttm</th>\n      <th>total_asset_turnover_ttm</th>\n      <th>cash_ratio_lf</th>\n      <th>current_ratio_lf</th>\n      <th>...</th>\n      <th>RSI10</th>\n      <th>SY</th>\n      <th>BIAS20</th>\n      <th>VOL30</th>\n      <th>VOL60</th>\n      <th>VOL120</th>\n      <th>VOLT20</th>\n      <th>VOLT60</th>\n      <th>AR</th>\n      <th>BR</th>\n    </tr>\n    <tr>\n      <th>order_book_id</th>\n      <th></th>\n      <th></th>\n      <th></th>\n      <th></th>\n      <th></th>\n      <th></th>\n      <th></th>\n      <th></th>\n      <th></th>\n      <th></th>\n      <th></th>\n      <th></th>\n      <th></th>\n      <th></th>\n      <th></th>\n      <th></th>\n      <th></th>\n      <th></th>\n      <th></th>\n      <th></th>\n      <th></th>\n    </tr>\n  </thead>\n  <tbody>\n    <tr>\n      <th>000837.XSHE</th>\n      <td>0.095794</td>\n      <td>-1.646699</td>\n      <td>-0.586022</td>\n      <td>0.222573</td>\n      <td>-0.414890</td>\n      <td>0.285638</td>\n      <td>-1.012500</td>\n      <td>-0.523534</td>\n      <td>-0.385840</td>\n      <td>-0.427213</td>\n      <td>...</td>\n      <td>0.227550</td>\n      <td>1.216634</td>\n      <td>0.375105</td>\n      <td>-0.385433</td>\n      <td>0.234097</td>\n      <td>-0.211010</td>\n      <td>-0.820388</td>\n      <td>-0.579267</td>\n      <td>0.087728</td>\n      <td>-0.265282</td>\n    </tr>\n    <tr>\n      <th>002446.XSHE</th>\n      <td>-0.032057</td>\n      <td>0.208511</td>\n      <td>-0.248153</td>\n      <td>-0.574023</td>\n      <td>0.549030</td>\n      <td>0.306574</td>\n      <td>0.358191</td>\n      <td>-0.479323</td>\n      <td>-0.199148</td>\n      <td>0.343463</td>\n      <td>...</td>\n      <td>-2.849840</td>\n      <td>-1.971787</td>\n      <td>-2.302898</td>\n      <td>0.291061</td>\n      <td>0.161475</td>\n      <td>0.387837</td>\n      <td>0.500061</td>\n      <td>0.013100</td>\n      <td>-0.774194</td>\n      <td>-0.764898</td>\n    </tr>\n    <tr>\n      <th>600507.XSHG</th>\n      <td>0.154067</td>\n      <td>1.169557</td>\n      <td>-0.259813</td>\n      <td>1.264156</td>\n      <td>-0.652742</td>\n      <td>0.202070</td>\n      <td>-0.673431</td>\n      <td>0.955217</td>\n      <td>-0.587185</td>\n      <td>-0.820837</td>\n      <td>...</td>\n      <td>-2.317647</td>\n      <td>-1.971787</td>\n      <td>-0.817039</td>\n      <td>0.247433</td>\n      <td>-0.179318</td>\n      <td>-0.309680</td>\n      <td>-0.764710</td>\n      <td>-0.865978</td>\n      <td>0.878687</td>\n      <td>0.159580</td>\n    </tr>\n    <tr>\n      <th>603198.XSHG</th>\n      <td>-0.031596</td>\n      <td>0.801800</td>\n      <td>-0.202628</td>\n      <td>-0.437298</td>\n      <td>-0.353054</td>\n      <td>0.050342</td>\n      <td>1.758278</td>\n      <td>0.008410</td>\n      <td>-0.313985</td>\n      <td>0.172998</td>\n      <td>...</td>\n      <td>-1.324902</td>\n      <td>-1.971787</td>\n      <td>-0.581344</td>\n      <td>-0.291645</td>\n      <td>-0.153889</td>\n      <td>0.081381</td>\n      <td>-0.030363</td>\n      <td>-0.149208</td>\n      <td>-0.680957</td>\n      <td>-0.680544</td>\n    </tr>\n    <tr>\n      <th>600368.XSHG</th>\n      <td>0.020938</td>\n      <td>-0.512214</td>\n      <td>-0.673689</td>\n      <td>-0.208162</td>\n      <td>-1.697859</td>\n      <td>0.347671</td>\n      <td>2.269115</td>\n      <td>-1.211728</td>\n      <td>-0.685285</td>\n      <td>-0.451725</td>\n      <td>...</td>\n      <td>0.675940</td>\n      <td>2.013740</td>\n      <td>0.222497</td>\n      <td>-0.564536</td>\n      <td>-0.499077</td>\n      <td>-0.393281</td>\n      <td>-1.077815</td>\n      <td>-1.026238</td>\n      <td>-0.564705</td>\n      <td>0.143835</td>\n    </tr>\n    <tr>\n      <th>...</th>\n      <td>...</td>\n      <td>...</td>\n      <td>...</td>\n      <td>...</td>\n      <td>...</td>\n      <td>...</td>\n      <td>...</td>\n      <td>...</td>\n      <td>...</td>\n      <td>...</td>\n      <td>...</td>\n      <td>...</td>\n      <td>...</td>\n      <td>...</td>\n      <td>...</td>\n      <td>...</td>\n      <td>...</td>\n      <td>...</td>\n      <td>...</td>\n      <td>...</td>\n      <td>...</td>\n    </tr>\n    <tr>\n      <th>600207.XSHG</th>\n      <td>0.131868</td>\n      <td>-0.823393</td>\n      <td>0.263177</td>\n      <td>-0.272370</td>\n      <td>-0.263247</td>\n      <td>-0.302831</td>\n      <td>-0.942238</td>\n      <td>0.618172</td>\n      <td>0.156943</td>\n      <td>0.298716</td>\n      <td>...</td>\n      <td>-0.842327</td>\n      <td>-1.174682</td>\n      <td>-0.641932</td>\n      <td>-0.802514</td>\n      <td>-0.726198</td>\n      <td>-0.771010</td>\n      <td>-0.497319</td>\n      <td>-0.562252</td>\n      <td>-1.430323</td>\n      <td>-1.202696</td>\n    </tr>\n    <tr>\n      <th>600059.XSHG</th>\n      <td>0.012597</td>\n      <td>0.062796</td>\n      <td>-0.581115</td>\n      <td>-0.401522</td>\n      <td>-0.077933</td>\n      <td>-0.119079</td>\n      <td>0.231777</td>\n      <td>-0.548350</td>\n      <td>-0.237430</td>\n      <td>2.612185</td>\n      <td>...</td>\n      <td>1.549394</td>\n      <td>2.810845</td>\n      <td>0.825623</td>\n      <td>-0.672733</td>\n      <td>-0.751937</td>\n      <td>-0.763711</td>\n      <td>-0.753896</td>\n      <td>-0.924522</td>\n      <td>0.343947</td>\n      <td>1.064155</td>\n    </tr>\n    <tr>\n      <th>300424.XSHE</th>\n      <td>-0.023627</td>\n      <td>-0.288227</td>\n      <td>0.431205</td>\n      <td>-0.712003</td>\n      <td>-0.540319</td>\n      <td>-0.102791</td>\n      <td>0.819499</td>\n      <td>-0.423662</td>\n      <td>-0.261499</td>\n      <td>0.490643</td>\n      <td>...</td>\n      <td>0.976167</td>\n      <td>-0.377576</td>\n      <td>0.551744</td>\n      <td>-0.239820</td>\n      <td>-0.278387</td>\n      <td>-0.370369</td>\n      <td>1.793408</td>\n      <td>1.592634</td>\n      <td>-0.764760</td>\n      <td>-0.104049</td>\n    </tr>\n    <tr>\n      <th>600110.XSHG</th>\n      <td>-0.013787</td>\n      <td>1.622491</td>\n      <td>0.160193</td>\n      <td>-0.490951</td>\n      <td>0.088132</td>\n      <td>-0.758294</td>\n      <td>-0.531865</td>\n      <td>-0.628889</td>\n      <td>-0.587787</td>\n      <td>-0.712666</td>\n      <td>...</td>\n      <td>0.040345</td>\n      <td>-0.377576</td>\n      <td>0.453518</td>\n      <td>0.043215</td>\n      <td>0.286751</td>\n      <td>0.651854</td>\n      <td>-0.394511</td>\n      <td>0.005910</td>\n      <td>0.503268</td>\n      <td>1.449622</td>\n    </tr>\n    <tr>\n      <th>300091.XSHE</th>\n      <td>0.044283</td>\n      <td>-0.338336</td>\n      <td>0.435881</td>\n      <td>-0.544812</td>\n      <td>-0.433338</td>\n      <td>0.145149</td>\n      <td>0.061260</td>\n      <td>-0.457472</td>\n      <td>-0.672998</td>\n      <td>-0.659557</td>\n      <td>...</td>\n      <td>-1.346999</td>\n      <td>-1.174682</td>\n      <td>-0.503040</td>\n      <td>-0.339894</td>\n      <td>-0.441066</td>\n      <td>-0.355537</td>\n      <td>-0.942442</td>\n      <td>-0.998969</td>\n      <td>-1.932569</td>\n      <td>-1.893220</td>\n    </tr>\n  </tbody>\n</table>\n<p>2508 rows × 23 columns</p>\n</div>"
     },
     "execution_count": 122,
     "metadata": {},
     "output_type": "execute_result"
    }
   ],
   "source": [
    "df = pd.concat([df['yield_rate'], df.loc[:, 'ep_ratio_ttm': 'BR']], axis=1)\n",
    "df"
   ],
   "metadata": {
    "collapsed": false,
    "pycharm": {
     "name": "#%%\n"
    }
   }
  },
  {
   "cell_type": "code",
   "execution_count": 123,
   "outputs": [
    {
     "data": {
      "text/plain": "yield_rate                           -2.451108e-02\nep_ratio_ttm                         -6.289493e-16\npb_ratio_ttm                         -4.957934e-16\nsp_ratio_ttm                         -1.602121e-15\noperating_revenue_growth_ratio_ttm   -7.663549e-16\nnet_profit_growth_ratio_ttm          -1.699863e-17\ngross_profit_margin_ttm               2.325979e-15\ntotal_asset_turnover_ttm             -2.763694e-15\ncash_ratio_lf                         1.657366e-15\ncurrent_ratio_lf                      3.753864e-15\nMACD_DIFF                             6.105341e-16\nMACD_DEA                              4.816279e-16\nMACD_HIST                            -1.565291e-16\nRSI10                                -3.517477e-15\nSY                                    1.949176e-15\nBIAS20                               -2.478967e-17\nVOL30                                 1.786273e-15\nVOL60                                 1.587955e-15\nVOL120                               -1.898180e-15\nVOLT20                               -1.273481e-15\nVOLT60                                3.170245e-15\nAR                                   -2.085165e-15\nBR                                    5.661960e-15\ndtype: float64"
     },
     "execution_count": 123,
     "metadata": {},
     "output_type": "execute_result"
    }
   ],
   "source": [
    "df.mean()"
   ],
   "metadata": {
    "collapsed": false,
    "pycharm": {
     "name": "#%%\n"
    }
   }
  },
  {
   "cell_type": "code",
   "execution_count": 124,
   "outputs": [
    {
     "data": {
      "text/plain": "yield_rate                            0.647329\nep_ratio_ttm                          3.450681\npb_ratio_ttm                          7.976261\nsp_ratio_ttm                          3.619625\noperating_revenue_growth_ratio_ttm    4.393192\nnet_profit_growth_ratio_ttm           4.309898\ngross_profit_margin_ttm               3.735776\ntotal_asset_turnover_ttm              3.785979\ncash_ratio_lf                         3.889602\ncurrent_ratio_lf                      3.753044\nMACD_DIFF                             3.693237\nMACD_DEA                              3.691943\nMACD_HIST                             3.492506\nRSI10                                 2.636446\nSY                                    2.810845\nBIAS20                                3.671454\nVOL30                                 3.684483\nVOL60                                 3.629070\nVOL120                                3.630396\nVOLT20                                3.697961\nVOLT60                                3.642238\nAR                                    3.720547\nBR                                    3.743874\ndtype: float64"
     },
     "execution_count": 124,
     "metadata": {},
     "output_type": "execute_result"
    }
   ],
   "source": [
    "df.max()"
   ],
   "metadata": {
    "collapsed": false,
    "pycharm": {
     "name": "#%%\n"
    }
   }
  },
  {
   "cell_type": "code",
   "execution_count": 125,
   "outputs": [
    {
     "data": {
      "text/plain": "yield_rate                            0.647329\nep_ratio_ttm                          3.450681\npb_ratio_ttm                          7.976261\nsp_ratio_ttm                          3.619625\noperating_revenue_growth_ratio_ttm    4.393192\nnet_profit_growth_ratio_ttm           4.309898\ngross_profit_margin_ttm               3.735776\ntotal_asset_turnover_ttm              3.785979\ncash_ratio_lf                         3.889602\ncurrent_ratio_lf                      3.753044\nMACD_DIFF                             3.693237\nMACD_DEA                              3.691943\nMACD_HIST                             3.492506\nRSI10                                 2.636446\nSY                                    2.810845\nBIAS20                                3.671454\nVOL30                                 3.684483\nVOL60                                 3.629070\nVOL120                                3.630396\nVOLT20                                3.697961\nVOLT60                                3.642238\nAR                                    3.720547\nBR                                    3.743874\ndtype: float64"
     },
     "execution_count": 125,
     "metadata": {},
     "output_type": "execute_result"
    }
   ],
   "source": [
    "df.max()"
   ],
   "metadata": {
    "collapsed": false,
    "pycharm": {
     "name": "#%%\n"
    }
   }
  },
  {
   "cell_type": "code",
   "execution_count": 126,
   "outputs": [],
   "source": [
    "df_mean=None\n",
    "df_max=None\n",
    "df_min=None\n",
    "\n",
    "for i_csv in range(para.month_num):\n",
    "    df = pd.read_csv(para.data_folder_path+'/'+str(i_csv)+'.csv', index_col='order_book_id')\n",
    "    df = pd.concat([df['yield_rate'], df.loc[:, 'ep_ratio_ttm': 'BR']], axis=1)\n",
    "\n",
    "    df_mean_series = df.mean()\n",
    "    df_mean_series.name = str(i_csv)\n",
    "    df_mean = pd.concat([df_mean, df_mean_series], axis=1)\n",
    "\n",
    "    df_max_series = df.max()\n",
    "    df_max_series.name = str(i_csv)\n",
    "    df_max = pd.concat([df_max, df_max_series], axis=1)\n",
    "\n",
    "    df_min_series = df.min()\n",
    "    df_min_series.name = str(i_csv)\n",
    "    df_min = pd.concat([df_min, df_min_series], axis=1)"
   ],
   "metadata": {
    "collapsed": false,
    "pycharm": {
     "name": "#%%\n"
    }
   }
  },
  {
   "cell_type": "code",
   "execution_count": 130,
   "outputs": [
    {
     "data": {
      "text/plain": "49.20459156373347"
     },
     "execution_count": 130,
     "metadata": {},
     "output_type": "execute_result"
    }
   ],
   "source": [
    "df_max.values.max()"
   ],
   "metadata": {
    "collapsed": false,
    "pycharm": {
     "name": "#%%\n"
    }
   }
  }
 ],
 "metadata": {
  "kernelspec": {
   "display_name": "Python 3",
   "language": "python",
   "name": "python3"
  },
  "language_info": {
   "codemirror_mode": {
    "name": "ipython",
    "version": 2
   },
   "file_extension": ".py",
   "mimetype": "text/x-python",
   "name": "python",
   "nbconvert_exporter": "python",
   "pygments_lexer": "ipython2",
   "version": "2.7.6"
  }
 },
 "nbformat": 4,
 "nbformat_minor": 0
}