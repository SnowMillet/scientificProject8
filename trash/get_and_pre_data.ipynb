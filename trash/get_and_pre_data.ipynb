{
 "cells": [
  {
   "cell_type": "code",
   "execution_count": 45,
   "outputs": [
    {
     "name": "stdout",
     "output_type": "stream",
     "text": [
      "data/cs_space_20d_rate_20d_2017\n"
     ]
    }
   ],
   "source": [
    "class Para:\n",
    "\n",
    "   index_code = 'CS' # eg. '000300.XSHG' 'CS'\n",
    "   start_date = '2017-01-01' # eg. '2018-01-01'\n",
    "   end_date = '2022-01-11'\n",
    "   interval = 20\n",
    "   yield_rate_interval = 20\n",
    "\n",
    "   write_folder_path = 'data/'+str(index_code).lower()+'_space_'+str(interval)+'d_rate_'+str(yield_rate_interval)+'d_'+str(start_date)[0:4]\n",
    "\n",
    "   # 估值\n",
    "   valuation_factor = [\n",
    "      'ep_ratio_ttm',\n",
    "      'pb_ratio_ttm',\n",
    "      'sp_ratio_ttm']\n",
    "\n",
    "   # 成长\n",
    "   growth_factor = [\n",
    "      'operating_revenue_growth_ratio_ttm',\n",
    "      'net_profit_growth_ratio_ttm']\n",
    "\n",
    "   # 财务质量\n",
    "   financial_factor = [\n",
    "      'gross_profit_margin_ttm',\n",
    "      'total_asset_turnover_ttm']\n",
    "\n",
    "   # 杠杆\n",
    "   leverage_factor = [\n",
    "      'cash_ratio_lf',\n",
    "      'current_ratio_lf',]\n",
    "\n",
    "   # 技术\n",
    "   technology_factor = [\n",
    "      'MACD_DIFF',\n",
    "      'MACD_DEA',\n",
    "      'MACD_HIST',\n",
    "      'RSI10',\n",
    "      'SY',\n",
    "      'BIAS20']\n",
    "\n",
    "   # 其他\n",
    "   other_factor = [\n",
    "      'VOL30',# 换手率\n",
    "      'VOL60',\n",
    "      'VOL120',\n",
    "      'VOLT20',# 波动率\n",
    "      'VOLT60',\n",
    "      'AR',# 人气意愿指标\n",
    "      'BR']\n",
    "\n",
    "   factor_list = valuation_factor + growth_factor + financial_factor + leverage_factor + technology_factor + other_factor\n",
    "\n",
    "para = Para()\n",
    "print(para.write_folder_path)"
   ],
   "metadata": {
    "collapsed": false,
    "pycharm": {
     "name": "#%%\n"
    }
   }
  },
  {
   "cell_type": "code",
   "execution_count": 46,
   "outputs": [
    {
     "name": "stderr",
     "output_type": "stream",
     "text": [
      "c:\\users\\millet\\miniconda3\\envs\\torch1.8-gpu\\lib\\site-packages\\rqdatac\\client.py:197: UserWarning: rqdatac is already inited. Settings will be changed.\n",
      "  warnings.warn(\"rqdatac is already inited. Settings will be changed.\", stacklevel=0)\n"
     ]
    }
   ],
   "source": [
    "import rqdatac\n",
    "\n",
    "rqdatac.init()"
   ],
   "metadata": {
    "collapsed": false,
    "pycharm": {
     "name": "#%%\n"
    }
   }
  },
  {
   "cell_type": "code",
   "execution_count": 47,
   "outputs": [
    {
     "data": {
      "text/plain": "[datetime.date(2017, 1, 3),\n datetime.date(2017, 2, 7),\n datetime.date(2017, 3, 7),\n datetime.date(2017, 4, 6),\n datetime.date(2017, 5, 5),\n datetime.date(2017, 6, 6),\n datetime.date(2017, 7, 4),\n datetime.date(2017, 8, 1),\n datetime.date(2017, 8, 29),\n datetime.date(2017, 9, 26),\n datetime.date(2017, 10, 31),\n datetime.date(2017, 11, 28),\n datetime.date(2017, 12, 26),\n datetime.date(2018, 1, 24),\n datetime.date(2018, 2, 28),\n datetime.date(2018, 3, 28),\n datetime.date(2018, 4, 27),\n datetime.date(2018, 5, 29),\n datetime.date(2018, 6, 27),\n datetime.date(2018, 7, 25),\n datetime.date(2018, 8, 22),\n datetime.date(2018, 9, 19),\n datetime.date(2018, 10, 25),\n datetime.date(2018, 11, 22),\n datetime.date(2018, 12, 20),\n datetime.date(2019, 1, 21),\n datetime.date(2019, 2, 25),\n datetime.date(2019, 3, 25),\n datetime.date(2019, 4, 23),\n datetime.date(2019, 5, 24),\n datetime.date(2019, 6, 24),\n datetime.date(2019, 7, 22),\n datetime.date(2019, 8, 19),\n datetime.date(2019, 9, 17),\n datetime.date(2019, 10, 22),\n datetime.date(2019, 11, 19),\n datetime.date(2019, 12, 17),\n datetime.date(2020, 1, 15),\n datetime.date(2020, 2, 20),\n datetime.date(2020, 3, 19),\n datetime.date(2020, 4, 17),\n datetime.date(2020, 5, 20),\n datetime.date(2020, 6, 17),\n datetime.date(2020, 7, 17),\n datetime.date(2020, 8, 14),\n datetime.date(2020, 9, 11),\n datetime.date(2020, 10, 19),\n datetime.date(2020, 11, 16),\n datetime.date(2020, 12, 14),\n datetime.date(2021, 1, 12),\n datetime.date(2021, 2, 9),\n datetime.date(2021, 3, 16),\n datetime.date(2021, 4, 14),\n datetime.date(2021, 5, 17),\n datetime.date(2021, 6, 15),\n datetime.date(2021, 7, 13),\n datetime.date(2021, 8, 10),\n datetime.date(2021, 9, 7),\n datetime.date(2021, 10, 14),\n datetime.date(2021, 11, 11),\n datetime.date(2021, 12, 9)]"
     },
     "execution_count": 47,
     "metadata": {},
     "output_type": "execute_result"
    }
   ],
   "source": [
    "from rqdatac import get_trading_dates\n",
    "\n",
    "trading_dates_list = get_trading_dates(start_date=para.start_date, end_date=para.end_date)\n",
    "trading_dates_list_interval = trading_dates_list[0: len(trading_dates_list) - para.yield_rate_interval: para.interval]\n",
    "trading_dates_list_interval"
   ],
   "metadata": {
    "collapsed": false,
    "pycharm": {
     "name": "#%%\n"
    }
   }
  },
  {
   "cell_type": "code",
   "execution_count": 48,
   "outputs": [
    {
     "name": "stdout",
     "output_type": "stream",
     "text": [
      "\n",
      "number of trading_dates_list_interval: 0/61\n",
      "use time: 0.0019931793212890625\n",
      "how_long_listed <= 60d: 603819.XSHG\n",
      "how_long_listed <= 60d: 300572.XSHE\n",
      "day_is_suspended or day_interval_is_suspended == True: 002462.XSHE\n",
      "how_long_listed <= 60d: 002822.XSHE\n",
      "day_is_suspended or day_interval_is_suspended == True: 300449.XSHE\n",
      "day_is_suspended or day_interval_is_suspended == True: 002745.XSHE\n",
      "day_is_suspended or day_interval_is_suspended == True: 300212.XSHE\n",
      "how_long_listed <= 60d: 300565.XSHE\n",
      "day_is_suspended or day_interval_is_suspended == True: 600551.XSHG\n",
      "how_long_listed <= 60d: 300573.XSHE\n",
      "day_is_suspended or day_interval_is_suspended == True: 002159.XSHE\n",
      "day_is_suspended or day_interval_is_suspended == True: 600655.XSHG\n"
     ]
    },
    {
     "ename": "KeyboardInterrupt",
     "evalue": "",
     "output_type": "error",
     "traceback": [
      "\u001B[1;31m---------------------------------------------------------------------------\u001B[0m",
      "\u001B[1;31mKeyboardInterrupt\u001B[0m                         Traceback (most recent call last)",
      "\u001B[1;32m~\\AppData\\Local\\Temp/ipykernel_2712/4239340544.py\u001B[0m in \u001B[0;36m<module>\u001B[1;34m\u001B[0m\n\u001B[0;32m     57\u001B[0m             \u001B[1;31m# 获取当前日期和未来日期的价格\u001B[0m\u001B[1;33m\u001B[0m\u001B[1;33m\u001B[0m\u001B[1;33m\u001B[0m\u001B[0m\n\u001B[0;32m     58\u001B[0m             \u001B[0mday_price\u001B[0m \u001B[1;33m=\u001B[0m \u001B[0mget_price\u001B[0m\u001B[1;33m(\u001B[0m\u001B[0morder_book_ids\u001B[0m\u001B[1;33m=\u001B[0m\u001B[0mi\u001B[0m\u001B[1;33m,\u001B[0m \u001B[0mstart_date\u001B[0m\u001B[1;33m=\u001B[0m\u001B[0mday\u001B[0m\u001B[1;33m,\u001B[0m \u001B[0mend_date\u001B[0m\u001B[1;33m=\u001B[0m\u001B[0mday\u001B[0m\u001B[1;33m,\u001B[0m \u001B[0mfields\u001B[0m\u001B[1;33m=\u001B[0m\u001B[1;34m'close'\u001B[0m\u001B[1;33m)\u001B[0m\u001B[1;33m\u001B[0m\u001B[1;33m\u001B[0m\u001B[0m\n\u001B[1;32m---> 59\u001B[1;33m             \u001B[0mday_interval_price\u001B[0m \u001B[1;33m=\u001B[0m \u001B[0mget_price\u001B[0m\u001B[1;33m(\u001B[0m\u001B[0morder_book_ids\u001B[0m\u001B[1;33m=\u001B[0m\u001B[0mi\u001B[0m\u001B[1;33m,\u001B[0m \u001B[0mstart_date\u001B[0m\u001B[1;33m=\u001B[0m\u001B[0mday_interval\u001B[0m\u001B[1;33m,\u001B[0m \u001B[0mend_date\u001B[0m\u001B[1;33m=\u001B[0m\u001B[0mday_interval\u001B[0m\u001B[1;33m,\u001B[0m \u001B[0mfields\u001B[0m\u001B[1;33m=\u001B[0m\u001B[1;34m'close'\u001B[0m\u001B[1;33m)\u001B[0m\u001B[1;33m\u001B[0m\u001B[1;33m\u001B[0m\u001B[0m\n\u001B[0m\u001B[0;32m     60\u001B[0m \u001B[1;33m\u001B[0m\u001B[0m\n\u001B[0;32m     61\u001B[0m             \u001B[1;31m# 判断是否数据缺失\u001B[0m\u001B[1;33m\u001B[0m\u001B[1;33m\u001B[0m\u001B[1;33m\u001B[0m\u001B[0m\n",
      "\u001B[1;32mc:\\users\\millet\\miniconda3\\envs\\torch1.8-gpu\\lib\\site-packages\\rqdatac\\decorators.py\u001B[0m in \u001B[0;36mwrap\u001B[1;34m(*args, **kwargs)\u001B[0m\n\u001B[0;32m    148\u001B[0m                 \u001B[1;32mif\u001B[0m \u001B[0mitem\u001B[0m \u001B[1;33m!=\u001B[0m \u001B[0mvalue\u001B[0m\u001B[1;33m:\u001B[0m\u001B[1;33m\u001B[0m\u001B[1;33m\u001B[0m\u001B[0m\n\u001B[0;32m    149\u001B[0m                     \u001B[1;32mraise\u001B[0m \u001B[0mValueError\u001B[0m\u001B[1;33m(\u001B[0m\u001B[1;34m\"'{}': except '{}', got '{}'\"\u001B[0m\u001B[1;33m.\u001B[0m\u001B[0mformat\u001B[0m\u001B[1;33m(\u001B[0m\u001B[0mname\u001B[0m\u001B[1;33m,\u001B[0m \u001B[0mvalue\u001B[0m\u001B[1;33m,\u001B[0m \u001B[0mitem\u001B[0m\u001B[1;33m)\u001B[0m\u001B[1;33m)\u001B[0m\u001B[1;33m\u001B[0m\u001B[1;33m\u001B[0m\u001B[0m\n\u001B[1;32m--> 150\u001B[1;33m         \u001B[1;32mreturn\u001B[0m \u001B[0mfunc\u001B[0m\u001B[1;33m(\u001B[0m\u001B[1;33m*\u001B[0m\u001B[0margs\u001B[0m\u001B[1;33m,\u001B[0m \u001B[1;33m**\u001B[0m\u001B[0mkwargs\u001B[0m\u001B[1;33m)\u001B[0m\u001B[1;33m\u001B[0m\u001B[1;33m\u001B[0m\u001B[0m\n\u001B[0m\u001B[0;32m    151\u001B[0m \u001B[1;33m\u001B[0m\u001B[0m\n\u001B[0;32m    152\u001B[0m     \u001B[1;32mreturn\u001B[0m \u001B[0mwrap\u001B[0m\u001B[1;33m\u001B[0m\u001B[1;33m\u001B[0m\u001B[0m\n",
      "\u001B[1;32mc:\\users\\millet\\miniconda3\\envs\\torch1.8-gpu\\lib\\site-packages\\rqdatac\\services\\get_price.py\u001B[0m in \u001B[0;36mget_price\u001B[1;34m(order_book_ids, start_date, end_date, frequency, fields, adjust_type, skip_suspended, expect_df, market, **kwargs)\u001B[0m\n\u001B[0;32m    111\u001B[0m     \u001B[1;32mfrom\u001B[0m \u001B[0mrqdatac\u001B[0m\u001B[1;33m.\u001B[0m\u001B[0mservices\u001B[0m\u001B[1;33m.\u001B[0m\u001B[0mdetail\u001B[0m\u001B[1;33m.\u001B[0m\u001B[0mget_price_df\u001B[0m \u001B[1;32mimport\u001B[0m \u001B[0mget_price_df\u001B[0m\u001B[1;33m,\u001B[0m \u001B[0mget_week_df\u001B[0m\u001B[1;33m\u001B[0m\u001B[1;33m\u001B[0m\u001B[0m\n\u001B[0;32m    112\u001B[0m     \u001B[1;32mif\u001B[0m \u001B[0mfrequency\u001B[0m \u001B[1;33m!=\u001B[0m \u001B[1;34m'w'\u001B[0m\u001B[1;33m:\u001B[0m\u001B[1;33m\u001B[0m\u001B[1;33m\u001B[0m\u001B[0m\n\u001B[1;32m--> 113\u001B[1;33m         df = get_price_df(\n\u001B[0m\u001B[0;32m    114\u001B[0m             \u001B[0morder_book_ids\u001B[0m\u001B[1;33m,\u001B[0m \u001B[0mstart_date\u001B[0m\u001B[1;33m,\u001B[0m \u001B[0mend_date\u001B[0m\u001B[1;33m,\u001B[0m \u001B[0mfrequency\u001B[0m\u001B[1;33m,\u001B[0m \u001B[0mduration\u001B[0m\u001B[1;33m,\u001B[0m \u001B[0mfields\u001B[0m\u001B[1;33m,\u001B[0m \u001B[0madjust_type\u001B[0m\u001B[1;33m,\u001B[0m \u001B[0mskip_suspended\u001B[0m\u001B[1;33m,\u001B[0m\u001B[1;33m\u001B[0m\u001B[1;33m\u001B[0m\u001B[0m\n\u001B[0;32m    115\u001B[0m             \u001B[0mstocks\u001B[0m\u001B[1;33m,\u001B[0m \u001B[0mfunds\u001B[0m\u001B[1;33m,\u001B[0m \u001B[0mindexes\u001B[0m\u001B[1;33m,\u001B[0m \u001B[0mfutures\u001B[0m\u001B[1;33m,\u001B[0m \u001B[0mfutures888\u001B[0m\u001B[1;33m,\u001B[0m \u001B[0mspots\u001B[0m\u001B[1;33m,\u001B[0m \u001B[0moptions\u001B[0m\u001B[1;33m,\u001B[0m \u001B[0mconvertibles\u001B[0m\u001B[1;33m,\u001B[0m \u001B[0mrepos\u001B[0m\u001B[1;33m,\u001B[0m \u001B[0mmarket\u001B[0m\u001B[1;33m\u001B[0m\u001B[1;33m\u001B[0m\u001B[0m\n",
      "\u001B[1;32mc:\\users\\millet\\miniconda3\\envs\\torch1.8-gpu\\lib\\site-packages\\rqdatac\\services\\detail\\get_price_df.py\u001B[0m in \u001B[0;36mget_price_df\u001B[1;34m(order_book_ids, start_date, end_date, frequency, duration, fields, adjust_type, skip_suspended, stocks, funds, indexes, futures, futures888, spots, options, convertibles, repos, market)\u001B[0m\n\u001B[0;32m     89\u001B[0m     \u001B[1;32mif\u001B[0m \u001B[0mfrequency\u001B[0m \u001B[1;33m==\u001B[0m \u001B[1;34m\"d\"\u001B[0m\u001B[1;33m:\u001B[0m\u001B[1;33m\u001B[0m\u001B[1;33m\u001B[0m\u001B[0m\n\u001B[0;32m     90\u001B[0m         \u001B[0mfields\u001B[0m\u001B[1;33m,\u001B[0m \u001B[0mhas_dominant_id\u001B[0m \u001B[1;33m=\u001B[0m \u001B[0m_ensure_fields\u001B[0m\u001B[1;33m(\u001B[0m\u001B[0mfields\u001B[0m\u001B[1;33m,\u001B[0m \u001B[0mDAYBAR_FIELDS\u001B[0m\u001B[1;33m,\u001B[0m \u001B[0mstocks\u001B[0m\u001B[1;33m,\u001B[0m \u001B[0mfunds\u001B[0m\u001B[1;33m,\u001B[0m \u001B[0mfutures\u001B[0m\u001B[1;33m,\u001B[0m \u001B[0mfutures888\u001B[0m\u001B[1;33m,\u001B[0m \u001B[0mspots\u001B[0m\u001B[1;33m,\u001B[0m \u001B[0moptions\u001B[0m\u001B[1;33m,\u001B[0m \u001B[0mconvertibles\u001B[0m\u001B[1;33m,\u001B[0m \u001B[0mindexes\u001B[0m\u001B[1;33m,\u001B[0m \u001B[0mrepos\u001B[0m\u001B[1;33m)\u001B[0m\u001B[1;33m\u001B[0m\u001B[1;33m\u001B[0m\u001B[0m\n\u001B[1;32m---> 91\u001B[1;33m         \u001B[0mpf\u001B[0m\u001B[1;33m,\u001B[0m \u001B[0mobid_slice_map\u001B[0m \u001B[1;33m=\u001B[0m \u001B[0mget_daybar\u001B[0m\u001B[1;33m(\u001B[0m\u001B[0morder_book_ids\u001B[0m\u001B[1;33m,\u001B[0m \u001B[0mstart_date\u001B[0m\u001B[1;33m,\u001B[0m \u001B[0mend_date\u001B[0m\u001B[1;33m,\u001B[0m \u001B[0mfields\u001B[0m\u001B[1;33m,\u001B[0m \u001B[0mduration\u001B[0m\u001B[1;33m,\u001B[0m \u001B[0mmarket\u001B[0m\u001B[1;33m)\u001B[0m\u001B[1;33m\u001B[0m\u001B[1;33m\u001B[0m\u001B[0m\n\u001B[0m\u001B[0;32m     92\u001B[0m         \u001B[1;32mif\u001B[0m \u001B[0mpf\u001B[0m \u001B[1;32mis\u001B[0m \u001B[1;32mNone\u001B[0m\u001B[1;33m:\u001B[0m\u001B[1;33m\u001B[0m\u001B[1;33m\u001B[0m\u001B[0m\n\u001B[0;32m     93\u001B[0m             \u001B[1;32mreturn\u001B[0m\u001B[1;33m\u001B[0m\u001B[1;33m\u001B[0m\u001B[0m\n",
      "\u001B[1;32mc:\\users\\millet\\miniconda3\\envs\\torch1.8-gpu\\lib\\site-packages\\rqdatac\\services\\detail\\get_price_df.py\u001B[0m in \u001B[0;36mget_daybar\u001B[1;34m(order_book_ids, start_date, end_date, fields, duration, market)\u001B[0m\n\u001B[0;32m    150\u001B[0m \u001B[1;33m\u001B[0m\u001B[0m\n\u001B[0;32m    151\u001B[0m \u001B[1;32mdef\u001B[0m \u001B[0mget_daybar\u001B[0m\u001B[1;33m(\u001B[0m\u001B[0morder_book_ids\u001B[0m\u001B[1;33m,\u001B[0m \u001B[0mstart_date\u001B[0m\u001B[1;33m,\u001B[0m \u001B[0mend_date\u001B[0m\u001B[1;33m,\u001B[0m \u001B[0mfields\u001B[0m\u001B[1;33m,\u001B[0m \u001B[0mduration\u001B[0m\u001B[1;33m,\u001B[0m \u001B[0mmarket\u001B[0m\u001B[1;33m)\u001B[0m\u001B[1;33m:\u001B[0m\u001B[1;33m\u001B[0m\u001B[1;33m\u001B[0m\u001B[0m\n\u001B[1;32m--> 152\u001B[1;33m     data = get_client().execute(\n\u001B[0m\u001B[0;32m    153\u001B[0m         \u001B[1;34m\"get_daybar_v\"\u001B[0m\u001B[1;33m,\u001B[0m \u001B[0morder_book_ids\u001B[0m\u001B[1;33m,\u001B[0m \u001B[0mstart_date\u001B[0m\u001B[1;33m,\u001B[0m \u001B[0mend_date\u001B[0m\u001B[1;33m,\u001B[0m \u001B[0mfields\u001B[0m\u001B[1;33m,\u001B[0m \u001B[0mduration\u001B[0m\u001B[1;33m,\u001B[0m \u001B[0mmarket\u001B[0m\u001B[1;33m\u001B[0m\u001B[1;33m\u001B[0m\u001B[0m\n\u001B[0;32m    154\u001B[0m     )\n",
      "\u001B[1;32mc:\\users\\millet\\miniconda3\\envs\\torch1.8-gpu\\lib\\site-packages\\rqdatac\\decorators.py\u001B[0m in \u001B[0;36mwrap\u001B[1;34m(*args, **kwargs)\u001B[0m\n\u001B[0;32m     65\u001B[0m             \u001B[1;32mwhile\u001B[0m \u001B[0mc\u001B[0m \u001B[1;33m>\u001B[0m \u001B[1;36m0\u001B[0m\u001B[1;33m:\u001B[0m\u001B[1;33m\u001B[0m\u001B[1;33m\u001B[0m\u001B[0m\n\u001B[0;32m     66\u001B[0m                 \u001B[1;32mtry\u001B[0m\u001B[1;33m:\u001B[0m\u001B[1;33m\u001B[0m\u001B[1;33m\u001B[0m\u001B[0m\n\u001B[1;32m---> 67\u001B[1;33m                     \u001B[1;32mreturn\u001B[0m \u001B[0mfunc\u001B[0m\u001B[1;33m(\u001B[0m\u001B[1;33m*\u001B[0m\u001B[0margs\u001B[0m\u001B[1;33m,\u001B[0m \u001B[1;33m**\u001B[0m\u001B[0mkwargs\u001B[0m\u001B[1;33m)\u001B[0m\u001B[1;33m\u001B[0m\u001B[1;33m\u001B[0m\u001B[0m\n\u001B[0m\u001B[0;32m     68\u001B[0m                 \u001B[1;32mexcept\u001B[0m \u001B[0msuppress_exceptions\u001B[0m \u001B[1;32mas\u001B[0m \u001B[0me\u001B[0m\u001B[1;33m:\u001B[0m\u001B[1;33m\u001B[0m\u001B[1;33m\u001B[0m\u001B[0m\n\u001B[0;32m     69\u001B[0m                     \u001B[0mc\u001B[0m \u001B[1;33m-=\u001B[0m \u001B[1;36m1\u001B[0m\u001B[1;33m\u001B[0m\u001B[1;33m\u001B[0m\u001B[0m\n",
      "\u001B[1;32mc:\\users\\millet\\miniconda3\\envs\\torch1.8-gpu\\lib\\site-packages\\rqdatac\\thread_local.py\u001B[0m in \u001B[0;36mexecute\u001B[1;34m(self, method, *args, **kwargs)\u001B[0m\n\u001B[0;32m     40\u001B[0m     \u001B[1;33m@\u001B[0m\u001B[0mretry\u001B[0m\u001B[1;33m(\u001B[0m\u001B[1;36m3\u001B[0m\u001B[1;33m,\u001B[0m \u001B[0msuppress_exceptions\u001B[0m\u001B[1;33m=\u001B[0m\u001B[1;33m(\u001B[0m\u001B[0mconnection_error\u001B[0m\u001B[1;33m,\u001B[0m \u001B[0mGatewayError\u001B[0m\u001B[1;33m,\u001B[0m \u001B[0mtimeout_error\u001B[0m\u001B[1;33m,\u001B[0m \u001B[0msocket\u001B[0m\u001B[1;33m.\u001B[0m\u001B[0mtimeout\u001B[0m\u001B[1;33m)\u001B[0m\u001B[1;33m)\u001B[0m\u001B[1;33m\u001B[0m\u001B[1;33m\u001B[0m\u001B[0m\n\u001B[0;32m     41\u001B[0m     \u001B[1;32mdef\u001B[0m \u001B[0mexecute\u001B[0m\u001B[1;33m(\u001B[0m\u001B[0mself\u001B[0m\u001B[1;33m,\u001B[0m \u001B[0mmethod\u001B[0m\u001B[1;33m,\u001B[0m \u001B[1;33m*\u001B[0m\u001B[0margs\u001B[0m\u001B[1;33m,\u001B[0m \u001B[1;33m**\u001B[0m\u001B[0mkwargs\u001B[0m\u001B[1;33m)\u001B[0m\u001B[1;33m:\u001B[0m\u001B[1;33m\u001B[0m\u001B[1;33m\u001B[0m\u001B[0m\n\u001B[1;32m---> 42\u001B[1;33m         \u001B[1;32mreturn\u001B[0m \u001B[0mself\u001B[0m\u001B[1;33m.\u001B[0m\u001B[0m_execute\u001B[0m\u001B[1;33m(\u001B[0m\u001B[0mself\u001B[0m\u001B[1;33m.\u001B[0m\u001B[0m_get_connection\u001B[0m\u001B[1;33m(\u001B[0m\u001B[1;33m)\u001B[0m\u001B[1;33m,\u001B[0m \u001B[0mmethod\u001B[0m\u001B[1;33m,\u001B[0m \u001B[0margs\u001B[0m\u001B[1;33m,\u001B[0m \u001B[0mkwargs\u001B[0m\u001B[1;33m)\u001B[0m\u001B[1;33m\u001B[0m\u001B[1;33m\u001B[0m\u001B[0m\n\u001B[0m\u001B[0;32m     43\u001B[0m \u001B[1;33m\u001B[0m\u001B[0m\n\u001B[0;32m     44\u001B[0m     \u001B[1;33m@\u001B[0m\u001B[0mretry\u001B[0m\u001B[1;33m(\u001B[0m\u001B[1;36m3\u001B[0m\u001B[1;33m,\u001B[0m \u001B[0msuppress_exceptions\u001B[0m\u001B[1;33m=\u001B[0m\u001B[1;33m(\u001B[0m\u001B[0mconnection_error\u001B[0m\u001B[1;33m,\u001B[0m \u001B[0mGatewayError\u001B[0m\u001B[1;33m)\u001B[0m\u001B[1;33m)\u001B[0m\u001B[1;33m\u001B[0m\u001B[1;33m\u001B[0m\u001B[0m\n",
      "\u001B[1;32mc:\\users\\millet\\miniconda3\\envs\\torch1.8-gpu\\lib\\site-packages\\rqdatac\\thread_local.py\u001B[0m in \u001B[0;36m_execute\u001B[1;34m(self, conn, method, args, kwargs)\u001B[0m\n\u001B[0;32m     36\u001B[0m                 \u001B[0mself\u001B[0m\u001B[1;33m.\u001B[0m\u001B[0mreset\u001B[0m\u001B[1;33m(\u001B[0m\u001B[1;33m)\u001B[0m\u001B[1;33m\u001B[0m\u001B[1;33m\u001B[0m\u001B[0m\n\u001B[0;32m     37\u001B[0m                 \u001B[0mconn\u001B[0m\u001B[1;33m.\u001B[0m\u001B[0mclose\u001B[0m\u001B[1;33m(\u001B[0m\u001B[1;33m)\u001B[0m\u001B[1;33m\u001B[0m\u001B[1;33m\u001B[0m\u001B[0m\n\u001B[1;32m---> 38\u001B[1;33m             \u001B[1;32mraise\u001B[0m \u001B[0me\u001B[0m\u001B[1;33m\u001B[0m\u001B[1;33m\u001B[0m\u001B[0m\n\u001B[0m\u001B[0;32m     39\u001B[0m \u001B[1;33m\u001B[0m\u001B[0m\n\u001B[0;32m     40\u001B[0m     \u001B[1;33m@\u001B[0m\u001B[0mretry\u001B[0m\u001B[1;33m(\u001B[0m\u001B[1;36m3\u001B[0m\u001B[1;33m,\u001B[0m \u001B[0msuppress_exceptions\u001B[0m\u001B[1;33m=\u001B[0m\u001B[1;33m(\u001B[0m\u001B[0mconnection_error\u001B[0m\u001B[1;33m,\u001B[0m \u001B[0mGatewayError\u001B[0m\u001B[1;33m,\u001B[0m \u001B[0mtimeout_error\u001B[0m\u001B[1;33m,\u001B[0m \u001B[0msocket\u001B[0m\u001B[1;33m.\u001B[0m\u001B[0mtimeout\u001B[0m\u001B[1;33m)\u001B[0m\u001B[1;33m)\u001B[0m\u001B[1;33m\u001B[0m\u001B[1;33m\u001B[0m\u001B[0m\n",
      "\u001B[1;32mc:\\users\\millet\\miniconda3\\envs\\torch1.8-gpu\\lib\\site-packages\\rqdatac\\thread_local.py\u001B[0m in \u001B[0;36m_execute\u001B[1;34m(self, conn, method, args, kwargs)\u001B[0m\n\u001B[0;32m     31\u001B[0m     \u001B[1;32mdef\u001B[0m \u001B[0m_execute\u001B[0m\u001B[1;33m(\u001B[0m\u001B[0mself\u001B[0m\u001B[1;33m,\u001B[0m \u001B[0mconn\u001B[0m\u001B[1;33m,\u001B[0m \u001B[0mmethod\u001B[0m\u001B[1;33m,\u001B[0m \u001B[0margs\u001B[0m\u001B[1;33m,\u001B[0m \u001B[0mkwargs\u001B[0m\u001B[1;33m)\u001B[0m\u001B[1;33m:\u001B[0m\u001B[1;33m\u001B[0m\u001B[1;33m\u001B[0m\u001B[0m\n\u001B[0;32m     32\u001B[0m         \u001B[1;32mtry\u001B[0m\u001B[1;33m:\u001B[0m\u001B[1;33m\u001B[0m\u001B[1;33m\u001B[0m\u001B[0m\n\u001B[1;32m---> 33\u001B[1;33m             \u001B[1;32mreturn\u001B[0m \u001B[0mconn\u001B[0m\u001B[1;33m.\u001B[0m\u001B[0mexecute\u001B[0m\u001B[1;33m(\u001B[0m\u001B[0mmethod\u001B[0m\u001B[1;33m,\u001B[0m \u001B[1;33m*\u001B[0m\u001B[0margs\u001B[0m\u001B[1;33m,\u001B[0m \u001B[1;33m**\u001B[0m\u001B[0mkwargs\u001B[0m\u001B[1;33m)\u001B[0m\u001B[1;33m\u001B[0m\u001B[1;33m\u001B[0m\u001B[0m\n\u001B[0m\u001B[0;32m     34\u001B[0m         \u001B[1;32mexcept\u001B[0m \u001B[1;33m(\u001B[0m\u001B[0mKeyboardInterrupt\u001B[0m\u001B[1;33m,\u001B[0m \u001B[0mException\u001B[0m\u001B[1;33m)\u001B[0m \u001B[1;32mas\u001B[0m \u001B[0me\u001B[0m\u001B[1;33m:\u001B[0m\u001B[1;33m\u001B[0m\u001B[1;33m\u001B[0m\u001B[0m\n\u001B[0;32m     35\u001B[0m             \u001B[1;32mif\u001B[0m \u001B[1;32mnot\u001B[0m \u001B[0misinstance\u001B[0m\u001B[1;33m(\u001B[0m\u001B[0me\u001B[0m\u001B[1;33m,\u001B[0m \u001B[1;33m(\u001B[0m\u001B[0mErrorFromBackend\u001B[0m\u001B[1;33m,\u001B[0m \u001B[0mGatewayError\u001B[0m\u001B[1;33m)\u001B[0m\u001B[1;33m)\u001B[0m\u001B[1;33m:\u001B[0m\u001B[1;33m\u001B[0m\u001B[1;33m\u001B[0m\u001B[0m\n",
      "\u001B[1;32mc:\\users\\millet\\miniconda3\\envs\\torch1.8-gpu\\lib\\site-packages\\rqdatac\\connection.py\u001B[0m in \u001B[0;36mexecute\u001B[1;34m(self, method, *args, **kwargs)\u001B[0m\n\u001B[0;32m    115\u001B[0m         )\n\u001B[0;32m    116\u001B[0m         \u001B[0mself\u001B[0m\u001B[1;33m.\u001B[0m\u001B[0m_socket\u001B[0m\u001B[1;33m.\u001B[0m\u001B[0msendall\u001B[0m\u001B[1;33m(\u001B[0m\u001B[0mrequest_body\u001B[0m\u001B[1;33m)\u001B[0m\u001B[1;33m\u001B[0m\u001B[1;33m\u001B[0m\u001B[0m\n\u001B[1;32m--> 117\u001B[1;33m         \u001B[0mmsg_type\u001B[0m\u001B[1;33m,\u001B[0m \u001B[0mbody\u001B[0m \u001B[1;33m=\u001B[0m \u001B[0mself\u001B[0m\u001B[1;33m.\u001B[0m\u001B[0m_read_one_packet\u001B[0m\u001B[1;33m(\u001B[0m\u001B[1;33m)\u001B[0m\u001B[1;33m\u001B[0m\u001B[1;33m\u001B[0m\u001B[0m\n\u001B[0m\u001B[0;32m    118\u001B[0m         \u001B[1;32mif\u001B[0m \u001B[0mmsg_type\u001B[0m \u001B[1;33m==\u001B[0m \u001B[0mMSG_TYPE\u001B[0m\u001B[1;33m.\u001B[0m\u001B[0mRESPONSE\u001B[0m\u001B[1;33m:\u001B[0m\u001B[1;33m\u001B[0m\u001B[1;33m\u001B[0m\u001B[0m\n\u001B[0;32m    119\u001B[0m             \u001B[1;32mreturn\u001B[0m \u001B[0mbody\u001B[0m\u001B[1;33m\u001B[0m\u001B[1;33m\u001B[0m\u001B[0m\n",
      "\u001B[1;32mc:\\users\\millet\\miniconda3\\envs\\torch1.8-gpu\\lib\\site-packages\\rqdatac\\connection.py\u001B[0m in \u001B[0;36m_read_one_packet\u001B[1;34m(self)\u001B[0m\n\u001B[0;32m     61\u001B[0m \u001B[1;33m\u001B[0m\u001B[0m\n\u001B[0;32m     62\u001B[0m     \u001B[1;32mdef\u001B[0m \u001B[0m_read_one_packet\u001B[0m\u001B[1;33m(\u001B[0m\u001B[0mself\u001B[0m\u001B[1;33m)\u001B[0m\u001B[1;33m:\u001B[0m\u001B[1;33m\u001B[0m\u001B[1;33m\u001B[0m\u001B[0m\n\u001B[1;32m---> 63\u001B[1;33m         \u001B[0mheader\u001B[0m \u001B[1;33m=\u001B[0m \u001B[0mself\u001B[0m\u001B[1;33m.\u001B[0m\u001B[0m_sf\u001B[0m\u001B[1;33m.\u001B[0m\u001B[0mread\u001B[0m\u001B[1;33m(\u001B[0m\u001B[0mHEADER_LENGTH\u001B[0m\u001B[1;33m)\u001B[0m\u001B[1;33m\u001B[0m\u001B[1;33m\u001B[0m\u001B[0m\n\u001B[0m\u001B[0;32m     64\u001B[0m         \u001B[1;32mif\u001B[0m \u001B[0mlen\u001B[0m\u001B[1;33m(\u001B[0m\u001B[0mheader\u001B[0m\u001B[1;33m)\u001B[0m \u001B[1;33m!=\u001B[0m \u001B[0mHEADER_LENGTH\u001B[0m\u001B[1;33m:\u001B[0m\u001B[1;33m\u001B[0m\u001B[1;33m\u001B[0m\u001B[0m\n\u001B[0;32m     65\u001B[0m             \u001B[1;32mif\u001B[0m \u001B[0mlen\u001B[0m\u001B[1;33m(\u001B[0m\u001B[0mheader\u001B[0m\u001B[1;33m)\u001B[0m \u001B[1;33m==\u001B[0m \u001B[1;36m0\u001B[0m\u001B[1;33m:\u001B[0m\u001B[1;33m\u001B[0m\u001B[1;33m\u001B[0m\u001B[0m\n",
      "\u001B[1;32mc:\\users\\millet\\miniconda3\\envs\\torch1.8-gpu\\lib\\socket.py\u001B[0m in \u001B[0;36mreadinto\u001B[1;34m(self, b)\u001B[0m\n\u001B[0;32m    667\u001B[0m         \u001B[1;32mwhile\u001B[0m \u001B[1;32mTrue\u001B[0m\u001B[1;33m:\u001B[0m\u001B[1;33m\u001B[0m\u001B[1;33m\u001B[0m\u001B[0m\n\u001B[0;32m    668\u001B[0m             \u001B[1;32mtry\u001B[0m\u001B[1;33m:\u001B[0m\u001B[1;33m\u001B[0m\u001B[1;33m\u001B[0m\u001B[0m\n\u001B[1;32m--> 669\u001B[1;33m                 \u001B[1;32mreturn\u001B[0m \u001B[0mself\u001B[0m\u001B[1;33m.\u001B[0m\u001B[0m_sock\u001B[0m\u001B[1;33m.\u001B[0m\u001B[0mrecv_into\u001B[0m\u001B[1;33m(\u001B[0m\u001B[0mb\u001B[0m\u001B[1;33m)\u001B[0m\u001B[1;33m\u001B[0m\u001B[1;33m\u001B[0m\u001B[0m\n\u001B[0m\u001B[0;32m    670\u001B[0m             \u001B[1;32mexcept\u001B[0m \u001B[0mtimeout\u001B[0m\u001B[1;33m:\u001B[0m\u001B[1;33m\u001B[0m\u001B[1;33m\u001B[0m\u001B[0m\n\u001B[0;32m    671\u001B[0m                 \u001B[0mself\u001B[0m\u001B[1;33m.\u001B[0m\u001B[0m_timeout_occurred\u001B[0m \u001B[1;33m=\u001B[0m \u001B[1;32mTrue\u001B[0m\u001B[1;33m\u001B[0m\u001B[1;33m\u001B[0m\u001B[0m\n",
      "\u001B[1;31mKeyboardInterrupt\u001B[0m: "
     ]
    }
   ],
   "source": [
    "from my_utils.data_process import remove_st\n",
    "from rqdatac import index_components, get_factor, get_price, is_suspended, get_next_trading_date, instruments, all_instruments\n",
    "import time\n",
    "import datetime\n",
    "import numpy as np\n",
    "import pandas as pd\n",
    "\n",
    "time_begin = time.time()\n",
    "for j in range(len(trading_dates_list_interval)):\n",
    "\n",
    "    print()\n",
    "    print(\"number of trading_dates_list_interval: {}/{}\".format(j, len(trading_dates_list_interval)))\n",
    "    print(\"use time: {}\".format(time.time()-time_begin))\n",
    "\n",
    "    date = trading_dates_list_interval[j]\n",
    "\n",
    "    # 全部股票\n",
    "    if para.index_code == 'CS':\n",
    "        stocks_list = all_instruments(type=para.index_code, date=date)['order_book_id'].values.tolist()\n",
    "    # hs300\n",
    "    elif para.index_code == '000300.XSHG':\n",
    "        stocks_list = index_components(order_book_id=para.index_code, date=date)\n",
    "\n",
    "    # 剔除 ST 股票\n",
    "    stocks_list_no_st = remove_st(stocks_list=stocks_list, date=date)\n",
    "    # 获取因子\n",
    "    df = get_factor(order_book_ids=stocks_list_no_st, factor=para.factor_list, date=date)\n",
    "    # 处理多级索引\n",
    "    df = df.reset_index(level='date')\n",
    "    # 插入 month 列\n",
    "    df.insert(loc=0, column='month', value=j)\n",
    "    # 插入收益率列\n",
    "    df.insert(loc=0, column='yield_rate', value=np.nan)\n",
    "    # 插入行业类别列\n",
    "    df.insert(loc=0, column='sector_code', value=np.nan)\n",
    "    # 插入板块类别列\n",
    "    df.insert(loc=0, column='board_type', value=np.nan)\n",
    "\n",
    "    # 遍历当前截面的每只股票\n",
    "    for i in df.index.values.tolist():\n",
    "\n",
    "        # 获取行业和板块信息\n",
    "        df.loc[i, 'sector_code'] = instruments(order_book_ids=i).sector_code\n",
    "        df.loc[i, 'board_type'] = instruments(order_book_ids=i).board_type\n",
    "\n",
    "        # 获取当前日期和未来日期\n",
    "        day = trading_dates_list_interval[df.loc[i, 'month']]\n",
    "        day_interval = get_next_trading_date(date=day, n=para.yield_rate_interval)\n",
    "\n",
    "        # 获取当前日期和未来日期停牌状态\n",
    "        day_is_suspended = bool(is_suspended(order_book_ids=i, start_date=day, end_date=day).values[0][0])\n",
    "        day_interval_is_suspended = bool(is_suspended(order_book_ids=i, start_date=day, end_date=day).values[0][0])\n",
    "\n",
    "        # 判断是否停牌\n",
    "        if day_is_suspended == False and day_interval_is_suspended == False:\n",
    "\n",
    "            # 获取当前日期和未来日期的价格\n",
    "            day_price = get_price(order_book_ids=i, start_date=day, end_date=day, fields='close')\n",
    "            day_interval_price = get_price(order_book_ids=i, start_date=day_interval, end_date=day_interval, fields='close')\n",
    "\n",
    "            # 判断是否数据缺失\n",
    "            if day_price is None or day_interval_price is None:\n",
    "                print(\"day_price or day_interval_price is None: {}\".format(i))\n",
    "            else:\n",
    "                # 判断距离上市天数\n",
    "                listed_date = datetime.datetime.strptime(instruments(order_book_ids=i).listed_date, '%Y-%m-%d').date()\n",
    "                how_long_listed = (trading_dates_list_interval[j]-listed_date).days\n",
    "\n",
    "                if how_long_listed > 90:\n",
    "                    yield_rate = day_interval_price['close'].item() / day_price['close'].item() - 1\n",
    "                    df.loc[i, 'yield_rate'] = yield_rate\n",
    "                else:\n",
    "                    print('how_long_listed <= 90d: {}'.format(i))\n",
    "\n",
    "        else:\n",
    "            print(\"day_is_suspended or day_interval_is_suspended == True: {}\".format(i))\n",
    "\n",
    "    # 数据预处理\n",
    "\n",
    "    # Replace infinite updated data with nan\n",
    "    df.replace(to_replace=[np.inf, -np.inf], value=np.nan, inplace=True)\n",
    "\n",
    "    # 剔除含有 na 的行\n",
    "    df_dropna = df.dropna(axis=0, how='any')\n",
    "\n",
    "    # 选择特征列和标签列\n",
    "    df_dropna_y = df_dropna[['board_type', 'sector_code', 'yield_rate', 'month', 'date']]\n",
    "    df_dropna_features = df_dropna.loc[:, 'ep_ratio_ttm':'BR']\n",
    "\n",
    "    # 中位数去极值\n",
    "    df_dropna_features = df_dropna_features.clip(\n",
    "        lower=df_dropna_features.median(axis=0) - 5 * df_dropna_features.mad(axis=0),\n",
    "        upper=df_dropna_features.median(axis=0) + 5 * df_dropna_features.mad(axis=0),\n",
    "        axis=1)\n",
    "\n",
    "    # 标准化\n",
    "    df_dropna_features = (df_dropna_features - df_dropna_features.mean()) / df_dropna_features.std(ddof=0)\n",
    "\n",
    "    # 拼接标签列和特征列\n",
    "    df_dropna_standard = pd.concat([df_dropna_y, df_dropna_features], axis=1)\n",
    "\n",
    "    # 写入文件\n",
    "    df_dropna_standard.to_csv(para.write_folder_path + '/' + str(j) + '.csv')\n",
    "\n",
    "print()\n",
    "print('Done!')"
   ],
   "metadata": {
    "collapsed": false,
    "pycharm": {
     "name": "#%%\n"
    }
   }
  }
 ],
 "metadata": {
  "kernelspec": {
   "display_name": "Python 3",
   "language": "python",
   "name": "python3"
  },
  "language_info": {
   "codemirror_mode": {
    "name": "ipython",
    "version": 2
   },
   "file_extension": ".py",
   "mimetype": "text/x-python",
   "name": "python",
   "nbconvert_exporter": "python",
   "pygments_lexer": "ipython2",
   "version": "2.7.6"
  }
 },
 "nbformat": 4,
 "nbformat_minor": 0
}