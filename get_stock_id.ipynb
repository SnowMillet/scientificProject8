{
 "cells": [
  {
   "cell_type": "code",
   "execution_count": 3,
   "metadata": {
    "collapsed": true
   },
   "outputs": [
    {
     "name": "stderr",
     "output_type": "stream",
     "text": [
      "c:\\users\\millet\\miniconda3\\envs\\torch1.8-gpu\\lib\\site-packages\\rqdatac\\client.py:197: UserWarning: rqdatac is already inited. Settings will be changed.\n",
      "  warnings.warn(\"rqdatac is already inited. Settings will be changed.\", stacklevel=0)\n"
     ]
    }
   ],
   "source": [
    "import rqdatac\n",
    "rqdatac.init()"
   ]
  },
  {
   "cell_type": "code",
   "execution_count": 4,
   "outputs": [],
   "source": [
    "from rqdatac import all_instruments\n",
    "\n",
    "df = all_instruments(type='CS')"
   ],
   "metadata": {
    "collapsed": false,
    "pycharm": {
     "name": "#%%\n"
    }
   }
  },
  {
   "cell_type": "code",
   "execution_count": 5,
   "outputs": [
    {
     "data": {
      "text/plain": "     order_book_id industry_code  market_tplus symbol special_type exchange  \\\n2527   600519.XSHG           C15             1   贵州茅台       Normal     XSHG   \n\n      status type de_listed_date listed_date sector_code_name abbrev_symbol  \\\n2527  Active   CS     0000-00-00  2001-08-27            必需消费品          GZMT   \n\n          sector_code  round_lot            trading_hours board_type  \\\n2527  ConsumerStaples      100.0  09:31-11:30,13:01-15:00  MainBoard   \n\n     industry_name  issue_price trading_code purchasedate  \n2527   酒、饮料和精制茶制造业        31.39       600519          NaN  ",
      "text/html": "<div>\n<style scoped>\n    .dataframe tbody tr th:only-of-type {\n        vertical-align: middle;\n    }\n\n    .dataframe tbody tr th {\n        vertical-align: top;\n    }\n\n    .dataframe thead th {\n        text-align: right;\n    }\n</style>\n<table border=\"1\" class=\"dataframe\">\n  <thead>\n    <tr style=\"text-align: right;\">\n      <th></th>\n      <th>order_book_id</th>\n      <th>industry_code</th>\n      <th>market_tplus</th>\n      <th>symbol</th>\n      <th>special_type</th>\n      <th>exchange</th>\n      <th>status</th>\n      <th>type</th>\n      <th>de_listed_date</th>\n      <th>listed_date</th>\n      <th>sector_code_name</th>\n      <th>abbrev_symbol</th>\n      <th>sector_code</th>\n      <th>round_lot</th>\n      <th>trading_hours</th>\n      <th>board_type</th>\n      <th>industry_name</th>\n      <th>issue_price</th>\n      <th>trading_code</th>\n      <th>purchasedate</th>\n    </tr>\n  </thead>\n  <tbody>\n    <tr>\n      <th>2527</th>\n      <td>600519.XSHG</td>\n      <td>C15</td>\n      <td>1</td>\n      <td>贵州茅台</td>\n      <td>Normal</td>\n      <td>XSHG</td>\n      <td>Active</td>\n      <td>CS</td>\n      <td>0000-00-00</td>\n      <td>2001-08-27</td>\n      <td>必需消费品</td>\n      <td>GZMT</td>\n      <td>ConsumerStaples</td>\n      <td>100.0</td>\n      <td>09:31-11:30,13:01-15:00</td>\n      <td>MainBoard</td>\n      <td>酒、饮料和精制茶制造业</td>\n      <td>31.39</td>\n      <td>600519</td>\n      <td>NaN</td>\n    </tr>\n  </tbody>\n</table>\n</div>"
     },
     "execution_count": 5,
     "metadata": {},
     "output_type": "execute_result"
    }
   ],
   "source": [
    "df.loc[df['symbol'].str.contains('茅台')]"
   ],
   "metadata": {
    "collapsed": false,
    "pycharm": {
     "name": "#%%\n"
    }
   }
  },
  {
   "cell_type": "code",
   "execution_count": 6,
   "outputs": [
    {
     "data": {
      "text/plain": "    order_book_id industry_code  market_tplus symbol special_type exchange  \\\n167   000858.XSHE           C15             1    五粮液       Normal     XSHE   \n\n     status type de_listed_date listed_date sector_code_name abbrev_symbol  \\\n167  Active   CS     0000-00-00  1998-04-27            必需消费品           WLY   \n\n         sector_code  round_lot            trading_hours board_type  \\\n167  ConsumerStaples      100.0  09:31-11:30,13:01-15:00  MainBoard   \n\n    industry_name  issue_price trading_code purchasedate  \n167   酒、饮料和精制茶制造业        14.77       000858          NaN  ",
      "text/html": "<div>\n<style scoped>\n    .dataframe tbody tr th:only-of-type {\n        vertical-align: middle;\n    }\n\n    .dataframe tbody tr th {\n        vertical-align: top;\n    }\n\n    .dataframe thead th {\n        text-align: right;\n    }\n</style>\n<table border=\"1\" class=\"dataframe\">\n  <thead>\n    <tr style=\"text-align: right;\">\n      <th></th>\n      <th>order_book_id</th>\n      <th>industry_code</th>\n      <th>market_tplus</th>\n      <th>symbol</th>\n      <th>special_type</th>\n      <th>exchange</th>\n      <th>status</th>\n      <th>type</th>\n      <th>de_listed_date</th>\n      <th>listed_date</th>\n      <th>sector_code_name</th>\n      <th>abbrev_symbol</th>\n      <th>sector_code</th>\n      <th>round_lot</th>\n      <th>trading_hours</th>\n      <th>board_type</th>\n      <th>industry_name</th>\n      <th>issue_price</th>\n      <th>trading_code</th>\n      <th>purchasedate</th>\n    </tr>\n  </thead>\n  <tbody>\n    <tr>\n      <th>167</th>\n      <td>000858.XSHE</td>\n      <td>C15</td>\n      <td>1</td>\n      <td>五粮液</td>\n      <td>Normal</td>\n      <td>XSHE</td>\n      <td>Active</td>\n      <td>CS</td>\n      <td>0000-00-00</td>\n      <td>1998-04-27</td>\n      <td>必需消费品</td>\n      <td>WLY</td>\n      <td>ConsumerStaples</td>\n      <td>100.0</td>\n      <td>09:31-11:30,13:01-15:00</td>\n      <td>MainBoard</td>\n      <td>酒、饮料和精制茶制造业</td>\n      <td>14.77</td>\n      <td>000858</td>\n      <td>NaN</td>\n    </tr>\n  </tbody>\n</table>\n</div>"
     },
     "execution_count": 6,
     "metadata": {},
     "output_type": "execute_result"
    }
   ],
   "source": [
    "df.loc[df['symbol'].str.contains('五粮液')]"
   ],
   "metadata": {
    "collapsed": false,
    "pycharm": {
     "name": "#%%\n"
    }
   }
  },
  {
   "cell_type": "code",
   "execution_count": 7,
   "outputs": [
    {
     "data": {
      "text/plain": "    order_book_id industry_code  market_tplus symbol special_type exchange  \\\n514   000001.XSHE           J66             1   平安银行       Normal     XSHE   \n\n     status type de_listed_date listed_date sector_code_name abbrev_symbol  \\\n514  Active   CS     0000-00-00  1991-04-03               金融          PAYH   \n\n    sector_code  round_lot            trading_hours board_type industry_name  \\\n514  Financials      100.0  09:31-11:30,13:01-15:00  MainBoard        货币金融服务   \n\n     issue_price trading_code purchasedate  \n514         40.0       000001          NaN  ",
      "text/html": "<div>\n<style scoped>\n    .dataframe tbody tr th:only-of-type {\n        vertical-align: middle;\n    }\n\n    .dataframe tbody tr th {\n        vertical-align: top;\n    }\n\n    .dataframe thead th {\n        text-align: right;\n    }\n</style>\n<table border=\"1\" class=\"dataframe\">\n  <thead>\n    <tr style=\"text-align: right;\">\n      <th></th>\n      <th>order_book_id</th>\n      <th>industry_code</th>\n      <th>market_tplus</th>\n      <th>symbol</th>\n      <th>special_type</th>\n      <th>exchange</th>\n      <th>status</th>\n      <th>type</th>\n      <th>de_listed_date</th>\n      <th>listed_date</th>\n      <th>sector_code_name</th>\n      <th>abbrev_symbol</th>\n      <th>sector_code</th>\n      <th>round_lot</th>\n      <th>trading_hours</th>\n      <th>board_type</th>\n      <th>industry_name</th>\n      <th>issue_price</th>\n      <th>trading_code</th>\n      <th>purchasedate</th>\n    </tr>\n  </thead>\n  <tbody>\n    <tr>\n      <th>514</th>\n      <td>000001.XSHE</td>\n      <td>J66</td>\n      <td>1</td>\n      <td>平安银行</td>\n      <td>Normal</td>\n      <td>XSHE</td>\n      <td>Active</td>\n      <td>CS</td>\n      <td>0000-00-00</td>\n      <td>1991-04-03</td>\n      <td>金融</td>\n      <td>PAYH</td>\n      <td>Financials</td>\n      <td>100.0</td>\n      <td>09:31-11:30,13:01-15:00</td>\n      <td>MainBoard</td>\n      <td>货币金融服务</td>\n      <td>40.0</td>\n      <td>000001</td>\n      <td>NaN</td>\n    </tr>\n  </tbody>\n</table>\n</div>"
     },
     "execution_count": 7,
     "metadata": {},
     "output_type": "execute_result"
    }
   ],
   "source": [
    "df.loc[df['symbol'].str.contains('平安银行')]"
   ],
   "metadata": {
    "collapsed": false,
    "pycharm": {
     "name": "#%%\n"
    }
   }
  },
  {
   "cell_type": "code",
   "execution_count": 8,
   "outputs": [
    {
     "data": {
      "text/plain": "     order_book_id industry_code  market_tplus symbol special_type exchange  \\\n2691   600036.XSHG           J66             1   招商银行       Normal     XSHG   \n\n      status type de_listed_date listed_date sector_code_name abbrev_symbol  \\\n2691  Active   CS     0000-00-00  2002-04-09               金融          ZSYH   \n\n     sector_code  round_lot            trading_hours board_type industry_name  \\\n2691  Financials      100.0  09:31-11:30,13:01-15:00  MainBoard        货币金融服务   \n\n      issue_price trading_code purchasedate  \n2691          7.3       600036          NaN  ",
      "text/html": "<div>\n<style scoped>\n    .dataframe tbody tr th:only-of-type {\n        vertical-align: middle;\n    }\n\n    .dataframe tbody tr th {\n        vertical-align: top;\n    }\n\n    .dataframe thead th {\n        text-align: right;\n    }\n</style>\n<table border=\"1\" class=\"dataframe\">\n  <thead>\n    <tr style=\"text-align: right;\">\n      <th></th>\n      <th>order_book_id</th>\n      <th>industry_code</th>\n      <th>market_tplus</th>\n      <th>symbol</th>\n      <th>special_type</th>\n      <th>exchange</th>\n      <th>status</th>\n      <th>type</th>\n      <th>de_listed_date</th>\n      <th>listed_date</th>\n      <th>sector_code_name</th>\n      <th>abbrev_symbol</th>\n      <th>sector_code</th>\n      <th>round_lot</th>\n      <th>trading_hours</th>\n      <th>board_type</th>\n      <th>industry_name</th>\n      <th>issue_price</th>\n      <th>trading_code</th>\n      <th>purchasedate</th>\n    </tr>\n  </thead>\n  <tbody>\n    <tr>\n      <th>2691</th>\n      <td>600036.XSHG</td>\n      <td>J66</td>\n      <td>1</td>\n      <td>招商银行</td>\n      <td>Normal</td>\n      <td>XSHG</td>\n      <td>Active</td>\n      <td>CS</td>\n      <td>0000-00-00</td>\n      <td>2002-04-09</td>\n      <td>金融</td>\n      <td>ZSYH</td>\n      <td>Financials</td>\n      <td>100.0</td>\n      <td>09:31-11:30,13:01-15:00</td>\n      <td>MainBoard</td>\n      <td>货币金融服务</td>\n      <td>7.3</td>\n      <td>600036</td>\n      <td>NaN</td>\n    </tr>\n  </tbody>\n</table>\n</div>"
     },
     "execution_count": 8,
     "metadata": {},
     "output_type": "execute_result"
    }
   ],
   "source": [
    "df.loc[df['symbol'].str.contains('招商银行')]"
   ],
   "metadata": {
    "collapsed": false,
    "pycharm": {
     "name": "#%%\n"
    }
   }
  },
  {
   "cell_type": "code",
   "execution_count": 9,
   "outputs": [
    {
     "data": {
      "text/plain": "     order_book_id industry_code  market_tplus symbol special_type exchange  \\\n2857   600104.XSHG           C36             1   上汽集团       Normal     XSHG   \n\n      status type de_listed_date listed_date sector_code_name abbrev_symbol  \\\n2857  Active   CS     0000-00-00  1997-11-25           非必须消费品          SQJT   \n\n                sector_code  round_lot            trading_hours board_type  \\\n2857  ConsumerDiscretionary      100.0  09:31-11:30,13:01-15:00  MainBoard   \n\n     industry_name  issue_price trading_code purchasedate  \n2857         汽车制造业         7.02       600104          NaN  ",
      "text/html": "<div>\n<style scoped>\n    .dataframe tbody tr th:only-of-type {\n        vertical-align: middle;\n    }\n\n    .dataframe tbody tr th {\n        vertical-align: top;\n    }\n\n    .dataframe thead th {\n        text-align: right;\n    }\n</style>\n<table border=\"1\" class=\"dataframe\">\n  <thead>\n    <tr style=\"text-align: right;\">\n      <th></th>\n      <th>order_book_id</th>\n      <th>industry_code</th>\n      <th>market_tplus</th>\n      <th>symbol</th>\n      <th>special_type</th>\n      <th>exchange</th>\n      <th>status</th>\n      <th>type</th>\n      <th>de_listed_date</th>\n      <th>listed_date</th>\n      <th>sector_code_name</th>\n      <th>abbrev_symbol</th>\n      <th>sector_code</th>\n      <th>round_lot</th>\n      <th>trading_hours</th>\n      <th>board_type</th>\n      <th>industry_name</th>\n      <th>issue_price</th>\n      <th>trading_code</th>\n      <th>purchasedate</th>\n    </tr>\n  </thead>\n  <tbody>\n    <tr>\n      <th>2857</th>\n      <td>600104.XSHG</td>\n      <td>C36</td>\n      <td>1</td>\n      <td>上汽集团</td>\n      <td>Normal</td>\n      <td>XSHG</td>\n      <td>Active</td>\n      <td>CS</td>\n      <td>0000-00-00</td>\n      <td>1997-11-25</td>\n      <td>非必须消费品</td>\n      <td>SQJT</td>\n      <td>ConsumerDiscretionary</td>\n      <td>100.0</td>\n      <td>09:31-11:30,13:01-15:00</td>\n      <td>MainBoard</td>\n      <td>汽车制造业</td>\n      <td>7.02</td>\n      <td>600104</td>\n      <td>NaN</td>\n    </tr>\n  </tbody>\n</table>\n</div>"
     },
     "execution_count": 9,
     "metadata": {},
     "output_type": "execute_result"
    }
   ],
   "source": [
    "df.loc[df['symbol'].str.contains('上汽集团')]"
   ],
   "metadata": {
    "collapsed": false,
    "pycharm": {
     "name": "#%%\n"
    }
   }
  },
  {
   "cell_type": "code",
   "execution_count": 10,
   "outputs": [
    {
     "data": {
      "text/plain": "     order_book_id industry_code  market_tplus symbol special_type exchange  \\\n2746   600066.XSHG           C36             1   宇通客车       Normal     XSHG   \n\n      status type de_listed_date listed_date sector_code_name abbrev_symbol  \\\n2746  Active   CS     0000-00-00  1997-05-08           非必须消费品          YTKC   \n\n                sector_code  round_lot            trading_hours board_type  \\\n2746  ConsumerDiscretionary      100.0  09:31-11:30,13:01-15:00  MainBoard   \n\n     industry_name  issue_price trading_code purchasedate  \n2746         汽车制造业         9.75       600066          NaN  ",
      "text/html": "<div>\n<style scoped>\n    .dataframe tbody tr th:only-of-type {\n        vertical-align: middle;\n    }\n\n    .dataframe tbody tr th {\n        vertical-align: top;\n    }\n\n    .dataframe thead th {\n        text-align: right;\n    }\n</style>\n<table border=\"1\" class=\"dataframe\">\n  <thead>\n    <tr style=\"text-align: right;\">\n      <th></th>\n      <th>order_book_id</th>\n      <th>industry_code</th>\n      <th>market_tplus</th>\n      <th>symbol</th>\n      <th>special_type</th>\n      <th>exchange</th>\n      <th>status</th>\n      <th>type</th>\n      <th>de_listed_date</th>\n      <th>listed_date</th>\n      <th>sector_code_name</th>\n      <th>abbrev_symbol</th>\n      <th>sector_code</th>\n      <th>round_lot</th>\n      <th>trading_hours</th>\n      <th>board_type</th>\n      <th>industry_name</th>\n      <th>issue_price</th>\n      <th>trading_code</th>\n      <th>purchasedate</th>\n    </tr>\n  </thead>\n  <tbody>\n    <tr>\n      <th>2746</th>\n      <td>600066.XSHG</td>\n      <td>C36</td>\n      <td>1</td>\n      <td>宇通客车</td>\n      <td>Normal</td>\n      <td>XSHG</td>\n      <td>Active</td>\n      <td>CS</td>\n      <td>0000-00-00</td>\n      <td>1997-05-08</td>\n      <td>非必须消费品</td>\n      <td>YTKC</td>\n      <td>ConsumerDiscretionary</td>\n      <td>100.0</td>\n      <td>09:31-11:30,13:01-15:00</td>\n      <td>MainBoard</td>\n      <td>汽车制造业</td>\n      <td>9.75</td>\n      <td>600066</td>\n      <td>NaN</td>\n    </tr>\n  </tbody>\n</table>\n</div>"
     },
     "execution_count": 10,
     "metadata": {},
     "output_type": "execute_result"
    }
   ],
   "source": [
    "df.loc[df['symbol'].str.contains('宇通客车')]"
   ],
   "metadata": {
    "collapsed": false,
    "pycharm": {
     "name": "#%%\n"
    }
   }
  },
  {
   "cell_type": "code",
   "execution_count": 11,
   "outputs": [
    {
     "data": {
      "text/plain": "     order_book_id industry_code  market_tplus symbol special_type exchange  \\\n2797   600085.XSHG           C27             1    同仁堂       Normal     XSHG   \n\n      status type de_listed_date listed_date sector_code_name abbrev_symbol  \\\n2797  Active   CS     0000-00-00  1997-06-25             医疗保健           TRT   \n\n     sector_code  round_lot            trading_hours board_type industry_name  \\\n2797  HealthCare      100.0  09:31-11:30,13:01-15:00  MainBoard         医药制造业   \n\n      issue_price trading_code purchasedate  \n2797         7.08       600085          NaN  ",
      "text/html": "<div>\n<style scoped>\n    .dataframe tbody tr th:only-of-type {\n        vertical-align: middle;\n    }\n\n    .dataframe tbody tr th {\n        vertical-align: top;\n    }\n\n    .dataframe thead th {\n        text-align: right;\n    }\n</style>\n<table border=\"1\" class=\"dataframe\">\n  <thead>\n    <tr style=\"text-align: right;\">\n      <th></th>\n      <th>order_book_id</th>\n      <th>industry_code</th>\n      <th>market_tplus</th>\n      <th>symbol</th>\n      <th>special_type</th>\n      <th>exchange</th>\n      <th>status</th>\n      <th>type</th>\n      <th>de_listed_date</th>\n      <th>listed_date</th>\n      <th>sector_code_name</th>\n      <th>abbrev_symbol</th>\n      <th>sector_code</th>\n      <th>round_lot</th>\n      <th>trading_hours</th>\n      <th>board_type</th>\n      <th>industry_name</th>\n      <th>issue_price</th>\n      <th>trading_code</th>\n      <th>purchasedate</th>\n    </tr>\n  </thead>\n  <tbody>\n    <tr>\n      <th>2797</th>\n      <td>600085.XSHG</td>\n      <td>C27</td>\n      <td>1</td>\n      <td>同仁堂</td>\n      <td>Normal</td>\n      <td>XSHG</td>\n      <td>Active</td>\n      <td>CS</td>\n      <td>0000-00-00</td>\n      <td>1997-06-25</td>\n      <td>医疗保健</td>\n      <td>TRT</td>\n      <td>HealthCare</td>\n      <td>100.0</td>\n      <td>09:31-11:30,13:01-15:00</td>\n      <td>MainBoard</td>\n      <td>医药制造业</td>\n      <td>7.08</td>\n      <td>600085</td>\n      <td>NaN</td>\n    </tr>\n  </tbody>\n</table>\n</div>"
     },
     "execution_count": 11,
     "metadata": {},
     "output_type": "execute_result"
    }
   ],
   "source": [
    "df.loc[df['symbol'].str.contains('同仁堂')]"
   ],
   "metadata": {
    "collapsed": false,
    "pycharm": {
     "name": "#%%\n"
    }
   }
  },
  {
   "cell_type": "code",
   "execution_count": 15,
   "outputs": [
    {
     "data": {
      "text/plain": "     order_book_id industry_code  market_tplus symbol special_type exchange  \\\n2076   600276.XSHG           C27             1   恒瑞医药       Normal     XSHG   \n\n      status type de_listed_date listed_date sector_code_name abbrev_symbol  \\\n2076  Active   CS     0000-00-00  2000-10-18             医疗保健          HRYY   \n\n     sector_code  round_lot            trading_hours board_type industry_name  \\\n2076  HealthCare      100.0  09:31-11:30,13:01-15:00  MainBoard         医药制造业   \n\n      issue_price trading_code purchasedate  \n2076        11.98       600276          NaN  ",
      "text/html": "<div>\n<style scoped>\n    .dataframe tbody tr th:only-of-type {\n        vertical-align: middle;\n    }\n\n    .dataframe tbody tr th {\n        vertical-align: top;\n    }\n\n    .dataframe thead th {\n        text-align: right;\n    }\n</style>\n<table border=\"1\" class=\"dataframe\">\n  <thead>\n    <tr style=\"text-align: right;\">\n      <th></th>\n      <th>order_book_id</th>\n      <th>industry_code</th>\n      <th>market_tplus</th>\n      <th>symbol</th>\n      <th>special_type</th>\n      <th>exchange</th>\n      <th>status</th>\n      <th>type</th>\n      <th>de_listed_date</th>\n      <th>listed_date</th>\n      <th>sector_code_name</th>\n      <th>abbrev_symbol</th>\n      <th>sector_code</th>\n      <th>round_lot</th>\n      <th>trading_hours</th>\n      <th>board_type</th>\n      <th>industry_name</th>\n      <th>issue_price</th>\n      <th>trading_code</th>\n      <th>purchasedate</th>\n    </tr>\n  </thead>\n  <tbody>\n    <tr>\n      <th>2076</th>\n      <td>600276.XSHG</td>\n      <td>C27</td>\n      <td>1</td>\n      <td>恒瑞医药</td>\n      <td>Normal</td>\n      <td>XSHG</td>\n      <td>Active</td>\n      <td>CS</td>\n      <td>0000-00-00</td>\n      <td>2000-10-18</td>\n      <td>医疗保健</td>\n      <td>HRYY</td>\n      <td>HealthCare</td>\n      <td>100.0</td>\n      <td>09:31-11:30,13:01-15:00</td>\n      <td>MainBoard</td>\n      <td>医药制造业</td>\n      <td>11.98</td>\n      <td>600276</td>\n      <td>NaN</td>\n    </tr>\n  </tbody>\n</table>\n</div>"
     },
     "execution_count": 15,
     "metadata": {},
     "output_type": "execute_result"
    }
   ],
   "source": [
    "df.loc[df['symbol'].str.contains('恒瑞')]"
   ],
   "metadata": {
    "collapsed": false,
    "pycharm": {
     "name": "#%%\n"
    }
   }
  },
  {
   "cell_type": "code",
   "execution_count": 13,
   "outputs": [
    {
     "data": {
      "text/plain": "     order_book_id industry_code  market_tplus symbol special_type exchange  \\\n3201   600895.XSHG           K70             1   张江高科       Normal     XSHG   \n\n      status type de_listed_date listed_date sector_code_name abbrev_symbol  \\\n3201  Active   CS     0000-00-00  1996-04-22               工业          ZJGK   \n\n      sector_code  round_lot            trading_hours board_type  \\\n3201  Industrials      100.0  09:31-11:30,13:01-15:00  MainBoard   \n\n     industry_name  issue_price trading_code purchasedate  \n3201          房地产业         6.15       600895          NaN  ",
      "text/html": "<div>\n<style scoped>\n    .dataframe tbody tr th:only-of-type {\n        vertical-align: middle;\n    }\n\n    .dataframe tbody tr th {\n        vertical-align: top;\n    }\n\n    .dataframe thead th {\n        text-align: right;\n    }\n</style>\n<table border=\"1\" class=\"dataframe\">\n  <thead>\n    <tr style=\"text-align: right;\">\n      <th></th>\n      <th>order_book_id</th>\n      <th>industry_code</th>\n      <th>market_tplus</th>\n      <th>symbol</th>\n      <th>special_type</th>\n      <th>exchange</th>\n      <th>status</th>\n      <th>type</th>\n      <th>de_listed_date</th>\n      <th>listed_date</th>\n      <th>sector_code_name</th>\n      <th>abbrev_symbol</th>\n      <th>sector_code</th>\n      <th>round_lot</th>\n      <th>trading_hours</th>\n      <th>board_type</th>\n      <th>industry_name</th>\n      <th>issue_price</th>\n      <th>trading_code</th>\n      <th>purchasedate</th>\n    </tr>\n  </thead>\n  <tbody>\n    <tr>\n      <th>3201</th>\n      <td>600895.XSHG</td>\n      <td>K70</td>\n      <td>1</td>\n      <td>张江高科</td>\n      <td>Normal</td>\n      <td>XSHG</td>\n      <td>Active</td>\n      <td>CS</td>\n      <td>0000-00-00</td>\n      <td>1996-04-22</td>\n      <td>工业</td>\n      <td>ZJGK</td>\n      <td>Industrials</td>\n      <td>100.0</td>\n      <td>09:31-11:30,13:01-15:00</td>\n      <td>MainBoard</td>\n      <td>房地产业</td>\n      <td>6.15</td>\n      <td>600895</td>\n      <td>NaN</td>\n    </tr>\n  </tbody>\n</table>\n</div>"
     },
     "execution_count": 13,
     "metadata": {},
     "output_type": "execute_result"
    }
   ],
   "source": [
    "df.loc[df['symbol'].str.contains('张江高科')]"
   ],
   "metadata": {
    "collapsed": false,
    "pycharm": {
     "name": "#%%\n"
    }
   }
  },
  {
   "cell_type": "code",
   "execution_count": 14,
   "outputs": [
    {
     "data": {
      "text/plain": "     order_book_id industry_code  market_tplus symbol special_type exchange  \\\n2243   600376.XSHG           K70             1   首开股份       Normal     XSHG   \n\n      status type de_listed_date listed_date sector_code_name abbrev_symbol  \\\n2243  Active   CS     0000-00-00  2001-03-12              房地产          SKGF   \n\n     sector_code  round_lot            trading_hours board_type industry_name  \\\n2243  RealEstate      100.0  09:31-11:30,13:01-15:00  MainBoard          房地产业   \n\n      issue_price trading_code purchasedate  \n2243         10.4       600376          NaN  ",
      "text/html": "<div>\n<style scoped>\n    .dataframe tbody tr th:only-of-type {\n        vertical-align: middle;\n    }\n\n    .dataframe tbody tr th {\n        vertical-align: top;\n    }\n\n    .dataframe thead th {\n        text-align: right;\n    }\n</style>\n<table border=\"1\" class=\"dataframe\">\n  <thead>\n    <tr style=\"text-align: right;\">\n      <th></th>\n      <th>order_book_id</th>\n      <th>industry_code</th>\n      <th>market_tplus</th>\n      <th>symbol</th>\n      <th>special_type</th>\n      <th>exchange</th>\n      <th>status</th>\n      <th>type</th>\n      <th>de_listed_date</th>\n      <th>listed_date</th>\n      <th>sector_code_name</th>\n      <th>abbrev_symbol</th>\n      <th>sector_code</th>\n      <th>round_lot</th>\n      <th>trading_hours</th>\n      <th>board_type</th>\n      <th>industry_name</th>\n      <th>issue_price</th>\n      <th>trading_code</th>\n      <th>purchasedate</th>\n    </tr>\n  </thead>\n  <tbody>\n    <tr>\n      <th>2243</th>\n      <td>600376.XSHG</td>\n      <td>K70</td>\n      <td>1</td>\n      <td>首开股份</td>\n      <td>Normal</td>\n      <td>XSHG</td>\n      <td>Active</td>\n      <td>CS</td>\n      <td>0000-00-00</td>\n      <td>2001-03-12</td>\n      <td>房地产</td>\n      <td>SKGF</td>\n      <td>RealEstate</td>\n      <td>100.0</td>\n      <td>09:31-11:30,13:01-15:00</td>\n      <td>MainBoard</td>\n      <td>房地产业</td>\n      <td>10.4</td>\n      <td>600376</td>\n      <td>NaN</td>\n    </tr>\n  </tbody>\n</table>\n</div>"
     },
     "execution_count": 14,
     "metadata": {},
     "output_type": "execute_result"
    }
   ],
   "source": [
    "df.loc[df['symbol'].str.contains('首开股份')]"
   ],
   "metadata": {
    "collapsed": false,
    "pycharm": {
     "name": "#%%\n"
    }
   }
  }
 ],
 "metadata": {
  "kernelspec": {
   "display_name": "Python 3",
   "language": "python",
   "name": "python3"
  },
  "language_info": {
   "codemirror_mode": {
    "name": "ipython",
    "version": 2
   },
   "file_extension": ".py",
   "mimetype": "text/x-python",
   "name": "python",
   "nbconvert_exporter": "python",
   "pygments_lexer": "ipython2",
   "version": "2.7.6"
  }
 },
 "nbformat": 4,
 "nbformat_minor": 0
}