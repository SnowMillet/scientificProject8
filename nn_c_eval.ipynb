{
 "cells": [
  {
   "cell_type": "code",
   "execution_count": 99,
   "outputs": [
    {
     "name": "stdout",
     "output_type": "stream",
     "text": [
      "1\n"
     ]
    }
   ],
   "source": [
    "import torch\n",
    "import os\n",
    "\n",
    "\n",
    "class Para:\n",
    "    feature_column_start_name = 'ep_ratio_ttm' # 'VOL5'\n",
    "    feature_column_end_name = 'BR' # 'AROON_DOWN'\n",
    "\n",
    "    feature_num = 16 # 8\n",
    "\n",
    "    device = torch.device(\"cuda:0\" if torch.cuda.is_available() else \"cpu\")\n",
    "\n",
    "    data_path = 'data/sk_space_1d_rate_20d_up_test'\n",
    "    model_path = 'models/model_sk_c2_s0.1_b16_lr0.001_d0.5_e100_up.pth'\n",
    "\n",
    "    classification_n = 2\n",
    "\n",
    "    month_num = len(os.listdir(data_path))\n",
    "\n",
    "para = Para()\n",
    "print(para.month_num)"
   ],
   "metadata": {
    "collapsed": false,
    "pycharm": {
     "name": "#%%\n"
    }
   }
  },
  {
   "cell_type": "code",
   "execution_count": 100,
   "outputs": [],
   "source": [
    "import numpy as np\n",
    "import torch\n",
    "from my_utils.model_class import MLP\n",
    "import pandas as pd\n",
    "\n",
    "def insert_predict(df: pd.DataFrame, model_path, out_nums: int, column_name: str) -> pd.DataFrame:\n",
    "\n",
    "    # 加载模型\n",
    "    model = MLP(in_nums=para.feature_num, out_nums=out_nums, drop_p=0.5)\n",
    "    model.load_state_dict(torch.load(model_path, map_location=para.device))\n",
    "    model = model.to(para.device)\n",
    "\n",
    "    # 运算\n",
    "    model.eval()\n",
    "    predict_tensor = model(torch.Tensor(df.loc[:, para.feature_column_start_name: para.feature_column_end_name].values).to(device=para.device))\n",
    "\n",
    "    # 插入 predict_tensor 列\n",
    "    df.insert(loc=0, column='predict_tensor_'+column_name, value=np.nan)\n",
    "    # 插入 predict_return_bin 列\n",
    "    df.insert(loc=0, column='predict_return_bin_'+column_name, value=np.nan)\n",
    "\n",
    "    df['predict_tensor'+'_'+column_name] = predict_tensor.to(device='cpu').detach().numpy().tolist()\n",
    "    df['predict_return_bin'+'_'+column_name] = predict_tensor.to(device='cpu').detach().numpy().argmax(1)\n",
    "\n",
    "    return df"
   ],
   "metadata": {
    "collapsed": false,
    "pycharm": {
     "name": "#%%\n"
    }
   }
  },
  {
   "cell_type": "code",
   "execution_count": 101,
   "outputs": [
    {
     "data": {
      "text/plain": "              board_type sector_code  month        date  yield_rate  \\\norder_book_id                                                         \n600376.XSHG    MainBoard  RealEstate      0  2020-03-02   -0.558663   \n600376.XSHG    MainBoard  RealEstate      1  2020-03-03   -0.695916   \n600376.XSHG    MainBoard  RealEstate      2  2020-03-04   -1.524868   \n600376.XSHG    MainBoard  RealEstate      3  2020-03-05   -1.475452   \n600376.XSHG    MainBoard  RealEstate      4  2020-03-06   -1.173273   \n...                  ...         ...    ...         ...         ...   \n600376.XSHG    MainBoard  RealEstate    238  2021-02-23    0.564579   \n600376.XSHG    MainBoard  RealEstate    239  2021-02-24    0.563805   \n600376.XSHG    MainBoard  RealEstate    240  2021-02-25    0.283123   \n600376.XSHG    MainBoard  RealEstate    241  2021-02-26    0.538050   \n600376.XSHG    MainBoard  RealEstate    242  2021-03-01    0.455274   \n\n               ep_ratio_ttm  pb_ratio_ttm  sp_ratio_ttm  MACD_DIFF  MACD_DEA  \\\norder_book_id                                                                  \n600376.XSHG        1.523242      1.004711      0.107141  -1.204288 -1.502120   \n600376.XSHG        1.530943      0.983002      0.128073  -1.071644 -1.423122   \n600376.XSHG        1.218614      1.916463     -0.720924  -0.619682 -1.265359   \n600376.XSHG        1.198173      1.981588     -0.776489  -0.231679 -1.057967   \n600376.XSHG        1.352026      1.504004     -0.358273  -0.091325 -0.862687   \n...                     ...           ...           ...        ...       ...   \n600376.XSHG       -0.724052     -1.594744      1.313814  -0.246237 -0.515702   \n600376.XSHG       -0.729507     -1.572760      1.286198  -0.148388 -0.440814   \n600376.XSHG       -0.803915     -1.264981      0.909469   0.041777 -0.341116   \n600376.XSHG       -0.713086     -1.638713      1.369337   0.062636 -0.256992   \n600376.XSHG       -0.707574     -1.660697      1.397245   0.074206 -0.187273   \n\n               ...     RSI10        SY    BIAS20     VOL30     VOL60  \\\norder_book_id  ...                                                     \n600376.XSHG    ... -0.107422  0.172696  0.546632  0.589315  0.638739   \n600376.XSHG    ...  0.089826 -0.541907  0.416932  0.659391  0.683553   \n600376.XSHG    ...  0.999582 -0.541907  2.071347  0.874184  0.821786   \n600376.XSHG    ...  0.968211  0.172696  2.049945  0.990048  0.851856   \n600376.XSHG    ...  0.563541  0.172696  1.030087  1.066617  0.881003   \n...            ...       ...       ...       ...       ...       ...   \n600376.XSHG    ...  1.173320  0.172696  0.422542 -1.114454 -1.704314   \n600376.XSHG    ...  1.518009  0.172696  0.528737 -1.098202 -1.688686   \n600376.XSHG    ...  1.852478  0.172696  1.259085 -0.928154 -1.577982   \n600376.XSHG    ...  0.620517  0.172696  0.412940 -0.861389 -1.530400   \n600376.XSHG    ...  0.667233  0.172696  0.374272 -0.839036 -1.509080   \n\n                 VOL120    VOLT20    VOLT60        AR        BR  \norder_book_id                                                    \n600376.XSHG    0.936430 -0.215725  1.480014  1.343977 -1.176594  \n600376.XSHG    0.994460 -0.423857  1.523664  1.299882 -1.105863  \n600376.XSHG    1.063159 -0.150182  1.523800  2.040535 -0.684230  \n600376.XSHG    1.042950  0.103611  1.522463  2.268369 -0.652622  \n600376.XSHG    1.047535  0.074880  1.535388  2.142563 -0.769494  \n...                 ...       ...       ...       ...       ...  \n600376.XSHG   -2.343498 -0.390394 -0.545100 -0.118088  0.307926  \n600376.XSHG   -2.357692 -0.549520 -0.607336  0.000036  0.258890  \n600376.XSHG   -2.258667 -0.582637 -0.683071  0.456888  0.802950  \n600376.XSHG   -2.226957 -0.645054 -0.747510 -0.095791  0.242889  \n600376.XSHG   -2.226850 -0.661003 -0.836330 -0.148723  0.191048  \n\n[240 rows x 21 columns]",
      "text/html": "<div>\n<style scoped>\n    .dataframe tbody tr th:only-of-type {\n        vertical-align: middle;\n    }\n\n    .dataframe tbody tr th {\n        vertical-align: top;\n    }\n\n    .dataframe thead th {\n        text-align: right;\n    }\n</style>\n<table border=\"1\" class=\"dataframe\">\n  <thead>\n    <tr style=\"text-align: right;\">\n      <th></th>\n      <th>board_type</th>\n      <th>sector_code</th>\n      <th>month</th>\n      <th>date</th>\n      <th>yield_rate</th>\n      <th>ep_ratio_ttm</th>\n      <th>pb_ratio_ttm</th>\n      <th>sp_ratio_ttm</th>\n      <th>MACD_DIFF</th>\n      <th>MACD_DEA</th>\n      <th>...</th>\n      <th>RSI10</th>\n      <th>SY</th>\n      <th>BIAS20</th>\n      <th>VOL30</th>\n      <th>VOL60</th>\n      <th>VOL120</th>\n      <th>VOLT20</th>\n      <th>VOLT60</th>\n      <th>AR</th>\n      <th>BR</th>\n    </tr>\n    <tr>\n      <th>order_book_id</th>\n      <th></th>\n      <th></th>\n      <th></th>\n      <th></th>\n      <th></th>\n      <th></th>\n      <th></th>\n      <th></th>\n      <th></th>\n      <th></th>\n      <th></th>\n      <th></th>\n      <th></th>\n      <th></th>\n      <th></th>\n      <th></th>\n      <th></th>\n      <th></th>\n      <th></th>\n      <th></th>\n      <th></th>\n    </tr>\n  </thead>\n  <tbody>\n    <tr>\n      <th>600376.XSHG</th>\n      <td>MainBoard</td>\n      <td>RealEstate</td>\n      <td>0</td>\n      <td>2020-03-02</td>\n      <td>-0.558663</td>\n      <td>1.523242</td>\n      <td>1.004711</td>\n      <td>0.107141</td>\n      <td>-1.204288</td>\n      <td>-1.502120</td>\n      <td>...</td>\n      <td>-0.107422</td>\n      <td>0.172696</td>\n      <td>0.546632</td>\n      <td>0.589315</td>\n      <td>0.638739</td>\n      <td>0.936430</td>\n      <td>-0.215725</td>\n      <td>1.480014</td>\n      <td>1.343977</td>\n      <td>-1.176594</td>\n    </tr>\n    <tr>\n      <th>600376.XSHG</th>\n      <td>MainBoard</td>\n      <td>RealEstate</td>\n      <td>1</td>\n      <td>2020-03-03</td>\n      <td>-0.695916</td>\n      <td>1.530943</td>\n      <td>0.983002</td>\n      <td>0.128073</td>\n      <td>-1.071644</td>\n      <td>-1.423122</td>\n      <td>...</td>\n      <td>0.089826</td>\n      <td>-0.541907</td>\n      <td>0.416932</td>\n      <td>0.659391</td>\n      <td>0.683553</td>\n      <td>0.994460</td>\n      <td>-0.423857</td>\n      <td>1.523664</td>\n      <td>1.299882</td>\n      <td>-1.105863</td>\n    </tr>\n    <tr>\n      <th>600376.XSHG</th>\n      <td>MainBoard</td>\n      <td>RealEstate</td>\n      <td>2</td>\n      <td>2020-03-04</td>\n      <td>-1.524868</td>\n      <td>1.218614</td>\n      <td>1.916463</td>\n      <td>-0.720924</td>\n      <td>-0.619682</td>\n      <td>-1.265359</td>\n      <td>...</td>\n      <td>0.999582</td>\n      <td>-0.541907</td>\n      <td>2.071347</td>\n      <td>0.874184</td>\n      <td>0.821786</td>\n      <td>1.063159</td>\n      <td>-0.150182</td>\n      <td>1.523800</td>\n      <td>2.040535</td>\n      <td>-0.684230</td>\n    </tr>\n    <tr>\n      <th>600376.XSHG</th>\n      <td>MainBoard</td>\n      <td>RealEstate</td>\n      <td>3</td>\n      <td>2020-03-05</td>\n      <td>-1.475452</td>\n      <td>1.198173</td>\n      <td>1.981588</td>\n      <td>-0.776489</td>\n      <td>-0.231679</td>\n      <td>-1.057967</td>\n      <td>...</td>\n      <td>0.968211</td>\n      <td>0.172696</td>\n      <td>2.049945</td>\n      <td>0.990048</td>\n      <td>0.851856</td>\n      <td>1.042950</td>\n      <td>0.103611</td>\n      <td>1.522463</td>\n      <td>2.268369</td>\n      <td>-0.652622</td>\n    </tr>\n    <tr>\n      <th>600376.XSHG</th>\n      <td>MainBoard</td>\n      <td>RealEstate</td>\n      <td>4</td>\n      <td>2020-03-06</td>\n      <td>-1.173273</td>\n      <td>1.352026</td>\n      <td>1.504004</td>\n      <td>-0.358273</td>\n      <td>-0.091325</td>\n      <td>-0.862687</td>\n      <td>...</td>\n      <td>0.563541</td>\n      <td>0.172696</td>\n      <td>1.030087</td>\n      <td>1.066617</td>\n      <td>0.881003</td>\n      <td>1.047535</td>\n      <td>0.074880</td>\n      <td>1.535388</td>\n      <td>2.142563</td>\n      <td>-0.769494</td>\n    </tr>\n    <tr>\n      <th>...</th>\n      <td>...</td>\n      <td>...</td>\n      <td>...</td>\n      <td>...</td>\n      <td>...</td>\n      <td>...</td>\n      <td>...</td>\n      <td>...</td>\n      <td>...</td>\n      <td>...</td>\n      <td>...</td>\n      <td>...</td>\n      <td>...</td>\n      <td>...</td>\n      <td>...</td>\n      <td>...</td>\n      <td>...</td>\n      <td>...</td>\n      <td>...</td>\n      <td>...</td>\n      <td>...</td>\n    </tr>\n    <tr>\n      <th>600376.XSHG</th>\n      <td>MainBoard</td>\n      <td>RealEstate</td>\n      <td>238</td>\n      <td>2021-02-23</td>\n      <td>0.564579</td>\n      <td>-0.724052</td>\n      <td>-1.594744</td>\n      <td>1.313814</td>\n      <td>-0.246237</td>\n      <td>-0.515702</td>\n      <td>...</td>\n      <td>1.173320</td>\n      <td>0.172696</td>\n      <td>0.422542</td>\n      <td>-1.114454</td>\n      <td>-1.704314</td>\n      <td>-2.343498</td>\n      <td>-0.390394</td>\n      <td>-0.545100</td>\n      <td>-0.118088</td>\n      <td>0.307926</td>\n    </tr>\n    <tr>\n      <th>600376.XSHG</th>\n      <td>MainBoard</td>\n      <td>RealEstate</td>\n      <td>239</td>\n      <td>2021-02-24</td>\n      <td>0.563805</td>\n      <td>-0.729507</td>\n      <td>-1.572760</td>\n      <td>1.286198</td>\n      <td>-0.148388</td>\n      <td>-0.440814</td>\n      <td>...</td>\n      <td>1.518009</td>\n      <td>0.172696</td>\n      <td>0.528737</td>\n      <td>-1.098202</td>\n      <td>-1.688686</td>\n      <td>-2.357692</td>\n      <td>-0.549520</td>\n      <td>-0.607336</td>\n      <td>0.000036</td>\n      <td>0.258890</td>\n    </tr>\n    <tr>\n      <th>600376.XSHG</th>\n      <td>MainBoard</td>\n      <td>RealEstate</td>\n      <td>240</td>\n      <td>2021-02-25</td>\n      <td>0.283123</td>\n      <td>-0.803915</td>\n      <td>-1.264981</td>\n      <td>0.909469</td>\n      <td>0.041777</td>\n      <td>-0.341116</td>\n      <td>...</td>\n      <td>1.852478</td>\n      <td>0.172696</td>\n      <td>1.259085</td>\n      <td>-0.928154</td>\n      <td>-1.577982</td>\n      <td>-2.258667</td>\n      <td>-0.582637</td>\n      <td>-0.683071</td>\n      <td>0.456888</td>\n      <td>0.802950</td>\n    </tr>\n    <tr>\n      <th>600376.XSHG</th>\n      <td>MainBoard</td>\n      <td>RealEstate</td>\n      <td>241</td>\n      <td>2021-02-26</td>\n      <td>0.538050</td>\n      <td>-0.713086</td>\n      <td>-1.638713</td>\n      <td>1.369337</td>\n      <td>0.062636</td>\n      <td>-0.256992</td>\n      <td>...</td>\n      <td>0.620517</td>\n      <td>0.172696</td>\n      <td>0.412940</td>\n      <td>-0.861389</td>\n      <td>-1.530400</td>\n      <td>-2.226957</td>\n      <td>-0.645054</td>\n      <td>-0.747510</td>\n      <td>-0.095791</td>\n      <td>0.242889</td>\n    </tr>\n    <tr>\n      <th>600376.XSHG</th>\n      <td>MainBoard</td>\n      <td>RealEstate</td>\n      <td>242</td>\n      <td>2021-03-01</td>\n      <td>0.455274</td>\n      <td>-0.707574</td>\n      <td>-1.660697</td>\n      <td>1.397245</td>\n      <td>0.074206</td>\n      <td>-0.187273</td>\n      <td>...</td>\n      <td>0.667233</td>\n      <td>0.172696</td>\n      <td>0.374272</td>\n      <td>-0.839036</td>\n      <td>-1.509080</td>\n      <td>-2.226850</td>\n      <td>-0.661003</td>\n      <td>-0.836330</td>\n      <td>-0.148723</td>\n      <td>0.191048</td>\n    </tr>\n  </tbody>\n</table>\n<p>240 rows × 21 columns</p>\n</div>"
     },
     "execution_count": 101,
     "metadata": {},
     "output_type": "execute_result"
    }
   ],
   "source": [
    "df = pd.DataFrame()\n",
    "\n",
    "for i_csv in range(para.month_num):\n",
    "    df = pd.read_csv(para.data_path +'/' + str(i_csv) + '.csv', index_col='order_book_id')\n",
    "\n",
    "df"
   ],
   "metadata": {
    "collapsed": false,
    "pycharm": {
     "name": "#%%\n"
    }
   }
  },
  {
   "cell_type": "code",
   "execution_count": 102,
   "outputs": [
    {
     "name": "stdout",
     "output_type": "stream",
     "text": [
      "tensor([0, 0, 0, 0, 0, 0, 0, 0, 0, 0, 0, 0, 0, 0, 0, 0, 0, 0, 0, 0, 0, 0, 0, 0,\n",
      "        0, 0, 0, 0, 0, 0, 0, 0, 0, 0, 0, 0, 0, 0, 0, 0, 0, 0, 0, 0, 0, 0, 0, 0,\n",
      "        0, 0, 0, 0, 0, 0, 0, 0, 0, 0, 0, 0, 0, 0, 0, 0, 0, 0, 0, 0, 0, 0, 0, 0,\n",
      "        0, 0, 0, 0, 0, 0, 0, 0, 0, 0, 0, 0, 0, 1, 1, 1, 1, 1, 1, 1, 1, 1, 1, 1,\n",
      "        1, 1, 1, 1, 1, 1, 1, 1, 1, 1, 1, 1, 1, 1, 1, 1, 1, 1, 1, 1, 1, 1, 1, 1,\n",
      "        1, 1, 1, 1, 1, 1, 1, 1, 1, 1, 1, 1, 1, 1, 1, 1, 1, 1, 1, 1, 1, 1, 1, 1,\n",
      "        1, 1, 1, 1, 1, 1, 1, 1, 1, 1, 1, 1, 1, 1, 1, 1, 1, 1, 1, 1, 1, 1, 1, 1,\n",
      "        1, 1, 1, 1, 1, 1, 1, 1, 1, 1, 1, 1, 1, 1, 1, 1, 1, 1, 1, 1, 1, 1, 1, 1,\n",
      "        1, 1, 1, 1, 1, 1, 1, 1, 1, 1, 1, 1, 1, 1, 1, 1, 1, 1, 1, 1, 1, 1, 1, 1,\n",
      "        1, 1, 1, 1, 1, 1, 1, 1, 1, 1, 1, 1, 1, 1, 1, 1, 1, 1, 1, 1, 1, 1, 1, 1])\n",
      "tensor([0, 0, 0, 0, 0, 0, 1, 1, 1, 1, 1, 1, 0, 0, 1, 0, 0, 0, 0, 0, 0, 1, 1, 1,\n",
      "        0, 1, 0, 1, 1, 1, 0, 1, 1, 0, 1, 1, 1, 1, 0, 1, 0, 0, 0, 1, 1, 0, 1, 1,\n",
      "        0, 1, 1, 1, 1, 0, 0, 1, 1, 0, 1, 1, 1, 1, 1, 0, 0, 1, 0, 1, 1, 0, 1, 1,\n",
      "        0, 0, 0, 1, 1, 0, 0, 1, 0, 1, 1, 1, 1, 0, 0, 1, 0, 0, 0, 0, 1, 1, 0, 0,\n",
      "        0, 1, 0, 0, 0, 0, 0, 1, 1, 0, 0, 0, 0, 1, 0, 0, 1, 1, 1, 0, 0, 0, 1, 0,\n",
      "        0, 1, 1, 0, 0, 0, 0, 0, 0, 0, 0, 0, 0, 0, 0, 0, 1, 1, 1, 1, 0, 0, 0, 1,\n",
      "        1, 1, 1, 1, 1, 1, 1, 1, 0, 1, 0, 1, 1, 1, 1, 1, 1, 0, 1, 1, 1, 1, 1, 0,\n",
      "        1, 0, 1, 0, 0, 1, 1, 0, 1, 1, 1, 1, 1, 1, 1, 1, 1, 1, 1, 1, 1, 1, 1, 1,\n",
      "        1, 1, 1, 1, 1, 1, 1, 1, 1, 1, 1, 1, 1, 1, 1, 1, 1, 1, 1, 1, 1, 1, 1, 1,\n",
      "        0, 0, 0, 1, 0, 0, 0, 0, 0, 0, 0, 0, 1, 0, 0, 1, 1, 0, 1, 1, 0, 0, 1, 0])\n",
      "tensor([0.4353, 0.5742])\n",
      "tensor(0.5250)\n",
      "1    66\n",
      "0    37\n",
      "Name: predict_return_bin, dtype: int64\n",
      "1    137\n",
      "0    103\n",
      "Name: return_bin, dtype: int64\n"
     ]
    }
   ],
   "source": [
    "import torchmetrics\n",
    "import time\n",
    "import matplotlib.pyplot as plt\n",
    "import torch.nn.functional as F\n",
    "\n",
    "precision = torchmetrics.Precision(average='none', num_classes=para.classification_n)\n",
    "accuracy = torchmetrics.Accuracy()\n",
    "\n",
    "# 插入预测数据\n",
    "df = insert_predict(df=df, model_path=para.model_path, out_nums=para.classification_n, column_name='2c')\n",
    "\n",
    "# 综合多个预测数据\n",
    "df.insert(loc=0, column='predict_return_bin', value=np.nan)\n",
    "df.loc[df['predict_return_bin_2c'].isin([0,]), 'predict_return_bin'] = 0\n",
    "df['predict_return_bin'].replace(to_replace=np.nan, value=1, inplace=True)\n",
    "df['predict_return_bin'] = df['predict_return_bin'].astype('int64')\n",
    "\n",
    "df.insert(loc=0, column='probability', value=np.nan)\n",
    "for stock_id in range(len(df.index)):\n",
    "    df.iloc[stock_id, 0] = F.softmax(torch.tensor(df.iloc[stock_id, df.columns.get_loc('predict_tensor_2c')]), dim=0).numpy()[0]\n",
    "\n",
    "# 插入实际 return_bin 列\n",
    "df.insert(loc=0, column='return_bin', value=np.nan)\n",
    "df.loc[df['yield_rate'] > 0.0, 'return_bin'] = 0\n",
    "df['return_bin'].replace(to_replace=np.nan, value=1, inplace=True)\n",
    "df['return_bin'] = df['return_bin'].astype('int64')\n",
    "\n",
    "# 计算精确率\n",
    "df = df.sort_values(by='probability', ascending=False)\n",
    "\n",
    "pred = torch.tensor(df['predict_return_bin']).type(torch.LongTensor)\n",
    "target = torch.tensor(df['return_bin']).type(torch.LongTensor)\n",
    "\n",
    "print(pred)\n",
    "print(target)\n",
    "\n",
    "print(precision(preds=pred, target=target))\n",
    "print(accuracy(preds=pred, target=target))\n",
    "\n",
    "print(df.loc[df['yield_rate']>0.0, 'predict_return_bin'].value_counts())\n",
    "print(df['return_bin'].value_counts())"
   ],
   "metadata": {
    "collapsed": false,
    "pycharm": {
     "name": "#%%\n"
    }
   }
  },
  {
   "cell_type": "code",
   "execution_count": 103,
   "outputs": [
    {
     "name": "stderr",
     "output_type": "stream",
     "text": [
      "c:\\users\\millet\\miniconda3\\envs\\torch1.8-gpu\\lib\\site-packages\\rqdatac\\client.py:197: UserWarning: rqdatac is already inited. Settings will be changed.\n",
      "  warnings.warn(\"rqdatac is already inited. Settings will be changed.\", stacklevel=0)\n"
     ]
    }
   ],
   "source": [
    "from rqdatac import get_price\n",
    "import rqdatac\n",
    "\n",
    "rqdatac.init()\n",
    "hs300_df = get_price(order_book_ids='000300.XSHG', start_date='2022-01-01', end_date='2022-03-22', fields='close')"
   ],
   "metadata": {
    "collapsed": false,
    "pycharm": {
     "name": "#%%\n"
    }
   }
  },
  {
   "cell_type": "code",
   "execution_count": 104,
   "outputs": [
    {
     "data": {
      "text/plain": "<AxesSubplot:xlabel='date'>"
     },
     "execution_count": 104,
     "metadata": {},
     "output_type": "execute_result"
    },
    {
     "data": {
      "text/plain": "<Figure size 432x288 with 1 Axes>",
      "image/png": "[encoded data removed]"
     },
     "metadata": {
      "needs_background": "light"
     },
     "output_type": "display_data"
    }
   ],
   "source": [
    "hs300 = hs300_df.reset_index(level='order_book_id').drop(labels='order_book_id', axis=1)\n",
    "hs300.rolling(5).mean().plot(grid=True)"
   ],
   "metadata": {
    "collapsed": false,
    "pycharm": {
     "name": "#%%\n"
    }
   }
  },
  {
   "cell_type": "markdown",
   "source": [
    "## 测试模型预测"
   ],
   "metadata": {
    "collapsed": false
   }
  },
  {
   "cell_type": "code",
   "execution_count": 105,
   "outputs": [
    {
     "ename": "FileNotFoundError",
     "evalue": "[Errno 2] No such file or directory: 'models/model_c2_p[[0.0, 0.3], [0.7, 1.0]]_b32_lr0.001_d0.5_e500.pth'",
     "output_type": "error",
     "traceback": [
      "\u001B[1;31m---------------------------------------------------------------------------\u001B[0m",
      "\u001B[1;31mFileNotFoundError\u001B[0m                         Traceback (most recent call last)",
      "\u001B[1;32m~\\AppData\\Local\\Temp/ipykernel_22912/1713849274.py\u001B[0m in \u001B[0;36m<module>\u001B[1;34m\u001B[0m\n\u001B[0;32m      3\u001B[0m \u001B[1;33m\u001B[0m\u001B[0m\n\u001B[0;32m      4\u001B[0m \u001B[0mmodel\u001B[0m \u001B[1;33m=\u001B[0m \u001B[0mMLP\u001B[0m\u001B[1;33m(\u001B[0m\u001B[0min_nums\u001B[0m\u001B[1;33m=\u001B[0m\u001B[1;36m22\u001B[0m\u001B[1;33m,\u001B[0m \u001B[0mout_nums\u001B[0m\u001B[1;33m=\u001B[0m\u001B[1;36m2\u001B[0m\u001B[1;33m,\u001B[0m \u001B[0mdrop_p\u001B[0m\u001B[1;33m=\u001B[0m\u001B[1;36m0.5\u001B[0m\u001B[1;33m)\u001B[0m\u001B[1;33m\u001B[0m\u001B[1;33m\u001B[0m\u001B[0m\n\u001B[1;32m----> 5\u001B[1;33m \u001B[0mmodel\u001B[0m\u001B[1;33m.\u001B[0m\u001B[0mload_state_dict\u001B[0m\u001B[1;33m(\u001B[0m\u001B[0mtorch\u001B[0m\u001B[1;33m.\u001B[0m\u001B[0mload\u001B[0m\u001B[1;33m(\u001B[0m\u001B[1;34m'models/model_c2_p[[0.0, 0.3], [0.7, 1.0]]_b32_lr0.001_d0.5_e500.pth'\u001B[0m\u001B[1;33m,\u001B[0m \u001B[0mmap_location\u001B[0m\u001B[1;33m=\u001B[0m\u001B[0mpara\u001B[0m\u001B[1;33m.\u001B[0m\u001B[0mdevice\u001B[0m\u001B[1;33m)\u001B[0m\u001B[1;33m)\u001B[0m\u001B[1;33m\u001B[0m\u001B[1;33m\u001B[0m\u001B[0m\n\u001B[0m\u001B[0;32m      6\u001B[0m \u001B[0mmodel\u001B[0m \u001B[1;33m=\u001B[0m \u001B[0mmodel\u001B[0m\u001B[1;33m.\u001B[0m\u001B[0mto\u001B[0m\u001B[1;33m(\u001B[0m\u001B[0mpara\u001B[0m\u001B[1;33m.\u001B[0m\u001B[0mdevice\u001B[0m\u001B[1;33m)\u001B[0m\u001B[1;33m\u001B[0m\u001B[1;33m\u001B[0m\u001B[0m\n\u001B[0;32m      7\u001B[0m \u001B[1;33m\u001B[0m\u001B[0m\n",
      "\u001B[1;32mc:\\users\\millet\\miniconda3\\envs\\torch1.8-gpu\\lib\\site-packages\\torch\\serialization.py\u001B[0m in \u001B[0;36mload\u001B[1;34m(f, map_location, pickle_module, **pickle_load_args)\u001B[0m\n\u001B[0;32m    577\u001B[0m         \u001B[0mpickle_load_args\u001B[0m\u001B[1;33m[\u001B[0m\u001B[1;34m'encoding'\u001B[0m\u001B[1;33m]\u001B[0m \u001B[1;33m=\u001B[0m \u001B[1;34m'utf-8'\u001B[0m\u001B[1;33m\u001B[0m\u001B[1;33m\u001B[0m\u001B[0m\n\u001B[0;32m    578\u001B[0m \u001B[1;33m\u001B[0m\u001B[0m\n\u001B[1;32m--> 579\u001B[1;33m     \u001B[1;32mwith\u001B[0m \u001B[0m_open_file_like\u001B[0m\u001B[1;33m(\u001B[0m\u001B[0mf\u001B[0m\u001B[1;33m,\u001B[0m \u001B[1;34m'rb'\u001B[0m\u001B[1;33m)\u001B[0m \u001B[1;32mas\u001B[0m \u001B[0mopened_file\u001B[0m\u001B[1;33m:\u001B[0m\u001B[1;33m\u001B[0m\u001B[1;33m\u001B[0m\u001B[0m\n\u001B[0m\u001B[0;32m    580\u001B[0m         \u001B[1;32mif\u001B[0m \u001B[0m_is_zipfile\u001B[0m\u001B[1;33m(\u001B[0m\u001B[0mopened_file\u001B[0m\u001B[1;33m)\u001B[0m\u001B[1;33m:\u001B[0m\u001B[1;33m\u001B[0m\u001B[1;33m\u001B[0m\u001B[0m\n\u001B[0;32m    581\u001B[0m             \u001B[1;31m# The zipfile reader is going to advance the current file position.\u001B[0m\u001B[1;33m\u001B[0m\u001B[1;33m\u001B[0m\u001B[1;33m\u001B[0m\u001B[0m\n",
      "\u001B[1;32mc:\\users\\millet\\miniconda3\\envs\\torch1.8-gpu\\lib\\site-packages\\torch\\serialization.py\u001B[0m in \u001B[0;36m_open_file_like\u001B[1;34m(name_or_buffer, mode)\u001B[0m\n\u001B[0;32m    228\u001B[0m \u001B[1;32mdef\u001B[0m \u001B[0m_open_file_like\u001B[0m\u001B[1;33m(\u001B[0m\u001B[0mname_or_buffer\u001B[0m\u001B[1;33m,\u001B[0m \u001B[0mmode\u001B[0m\u001B[1;33m)\u001B[0m\u001B[1;33m:\u001B[0m\u001B[1;33m\u001B[0m\u001B[1;33m\u001B[0m\u001B[0m\n\u001B[0;32m    229\u001B[0m     \u001B[1;32mif\u001B[0m \u001B[0m_is_path\u001B[0m\u001B[1;33m(\u001B[0m\u001B[0mname_or_buffer\u001B[0m\u001B[1;33m)\u001B[0m\u001B[1;33m:\u001B[0m\u001B[1;33m\u001B[0m\u001B[1;33m\u001B[0m\u001B[0m\n\u001B[1;32m--> 230\u001B[1;33m         \u001B[1;32mreturn\u001B[0m \u001B[0m_open_file\u001B[0m\u001B[1;33m(\u001B[0m\u001B[0mname_or_buffer\u001B[0m\u001B[1;33m,\u001B[0m \u001B[0mmode\u001B[0m\u001B[1;33m)\u001B[0m\u001B[1;33m\u001B[0m\u001B[1;33m\u001B[0m\u001B[0m\n\u001B[0m\u001B[0;32m    231\u001B[0m     \u001B[1;32melse\u001B[0m\u001B[1;33m:\u001B[0m\u001B[1;33m\u001B[0m\u001B[1;33m\u001B[0m\u001B[0m\n\u001B[0;32m    232\u001B[0m         \u001B[1;32mif\u001B[0m \u001B[1;34m'w'\u001B[0m \u001B[1;32min\u001B[0m \u001B[0mmode\u001B[0m\u001B[1;33m:\u001B[0m\u001B[1;33m\u001B[0m\u001B[1;33m\u001B[0m\u001B[0m\n",
      "\u001B[1;32mc:\\users\\millet\\miniconda3\\envs\\torch1.8-gpu\\lib\\site-packages\\torch\\serialization.py\u001B[0m in \u001B[0;36m__init__\u001B[1;34m(self, name, mode)\u001B[0m\n\u001B[0;32m    209\u001B[0m \u001B[1;32mclass\u001B[0m \u001B[0m_open_file\u001B[0m\u001B[1;33m(\u001B[0m\u001B[0m_opener\u001B[0m\u001B[1;33m)\u001B[0m\u001B[1;33m:\u001B[0m\u001B[1;33m\u001B[0m\u001B[1;33m\u001B[0m\u001B[0m\n\u001B[0;32m    210\u001B[0m     \u001B[1;32mdef\u001B[0m \u001B[0m__init__\u001B[0m\u001B[1;33m(\u001B[0m\u001B[0mself\u001B[0m\u001B[1;33m,\u001B[0m \u001B[0mname\u001B[0m\u001B[1;33m,\u001B[0m \u001B[0mmode\u001B[0m\u001B[1;33m)\u001B[0m\u001B[1;33m:\u001B[0m\u001B[1;33m\u001B[0m\u001B[1;33m\u001B[0m\u001B[0m\n\u001B[1;32m--> 211\u001B[1;33m         \u001B[0msuper\u001B[0m\u001B[1;33m(\u001B[0m\u001B[0m_open_file\u001B[0m\u001B[1;33m,\u001B[0m \u001B[0mself\u001B[0m\u001B[1;33m)\u001B[0m\u001B[1;33m.\u001B[0m\u001B[0m__init__\u001B[0m\u001B[1;33m(\u001B[0m\u001B[0mopen\u001B[0m\u001B[1;33m(\u001B[0m\u001B[0mname\u001B[0m\u001B[1;33m,\u001B[0m \u001B[0mmode\u001B[0m\u001B[1;33m)\u001B[0m\u001B[1;33m)\u001B[0m\u001B[1;33m\u001B[0m\u001B[1;33m\u001B[0m\u001B[0m\n\u001B[0m\u001B[0;32m    212\u001B[0m \u001B[1;33m\u001B[0m\u001B[0m\n\u001B[0;32m    213\u001B[0m     \u001B[1;32mdef\u001B[0m \u001B[0m__exit__\u001B[0m\u001B[1;33m(\u001B[0m\u001B[0mself\u001B[0m\u001B[1;33m,\u001B[0m \u001B[1;33m*\u001B[0m\u001B[0margs\u001B[0m\u001B[1;33m)\u001B[0m\u001B[1;33m:\u001B[0m\u001B[1;33m\u001B[0m\u001B[1;33m\u001B[0m\u001B[0m\n",
      "\u001B[1;31mFileNotFoundError\u001B[0m: [Errno 2] No such file or directory: 'models/model_c2_p[[0.0, 0.3], [0.7, 1.0]]_b32_lr0.001_d0.5_e500.pth'"
     ]
    }
   ],
   "source": [
    "import torch\n",
    "from my_utils.model_class import MLP\n",
    "\n",
    "model = MLP(in_nums=22, out_nums=2, drop_p=0.5)\n",
    "model.load_state_dict(torch.load('models/model_c2_p[[0.0, 0.3], [0.7, 1.0]]_b32_lr0.001_d0.5_e500.pth', map_location=para.device))\n",
    "model = model.to(para.device)\n",
    "\n",
    "model.eval()\n",
    "a = model(torch.Tensor([[0.5]*22]*4).to(device=para.device))\n",
    "a"
   ],
   "metadata": {
    "collapsed": false,
    "pycharm": {
     "name": "#%%\n"
    }
   }
  }
 ],
 "metadata": {
  "kernelspec": {
   "display_name": "Python 3",
   "language": "python",
   "name": "python3"
  },
  "language_info": {
   "codemirror_mode": {
    "name": "ipython",
    "version": 2
   },
   "file_extension": ".py",
   "mimetype": "text/x-python",
   "name": "python",
   "nbconvert_exporter": "python",
   "pygments_lexer": "ipython2",
   "version": "2.7.6"
  }
 },
 "nbformat": 4,
 "nbformat_minor": 0
}